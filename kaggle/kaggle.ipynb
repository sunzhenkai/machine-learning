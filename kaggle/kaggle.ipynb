{
 "cells": [
  {
   "cell_type": "markdown",
   "id": "24b6b1ec-b840-485f-870c-44be0e92c84c",
   "metadata": {},
   "source": [
    "# kaggle api\n",
    "## 安装\n",
    "文档参考[这里](https://github.com/Kaggle/kaggle-api)"
   ]
  },
  {
   "cell_type": "code",
   "id": "b885f15d-f699-48b7-9a50-a6d39674f45e",
   "metadata": {
    "ExecuteTime": {
     "end_time": "2024-05-27T18:11:04.643234Z",
     "start_time": "2024-05-27T18:11:02.045778Z"
    }
   },
   "source": [
    "!pip3 install kaggle --upgrade"
   ],
   "outputs": [
    {
     "name": "stdout",
     "output_type": "stream",
     "text": [
      "Looking in indexes: https://pypi.tuna.tsinghua.edu.cn/simple\r\n",
      "Collecting kaggle\r\n",
      "  Downloading https://pypi.tuna.tsinghua.edu.cn/packages/25/fc/6457512e32b677ff41c85d3f29a8f443626cf18b6113700f162171b2608c/kaggle-1.6.14.tar.gz (82 kB)\r\n",
      "\u001B[2K     \u001B[90m━━━━━━━━━━━━━━━━━━━━━━━━━━━━━━━━━━━━━━━━\u001B[0m \u001B[32m82.1/82.1 kB\u001B[0m \u001B[31m5.5 MB/s\u001B[0m eta \u001B[36m0:00:00\u001B[0m\r\n",
      "\u001B[?25h  Preparing metadata (setup.py) ... \u001B[?25ldone\r\n",
      "\u001B[?25hRequirement already satisfied: six>=1.10 in /Users/wii/Library/Python/3.11/lib/python/site-packages (from kaggle) (1.16.0)\r\n",
      "Requirement already satisfied: certifi>=2023.7.22 in /Users/wii/Library/Python/3.11/lib/python/site-packages (from kaggle) (2023.11.17)\r\n",
      "Requirement already satisfied: python-dateutil in /Users/wii/Library/Python/3.11/lib/python/site-packages (from kaggle) (2.8.2)\r\n",
      "Requirement already satisfied: requests in /Users/wii/Library/Python/3.11/lib/python/site-packages (from kaggle) (2.31.0)\r\n",
      "Collecting tqdm (from kaggle)\r\n",
      "  Downloading https://pypi.tuna.tsinghua.edu.cn/packages/18/eb/fdb7eb9e48b7b02554e1664afd3bd3f117f6b6d6c5881438a0b055554f9b/tqdm-4.66.4-py3-none-any.whl (78 kB)\r\n",
      "\u001B[2K     \u001B[90m━━━━━━━━━━━━━━━━━━━━━━━━━━━━━━━━━━━━━━━━\u001B[0m \u001B[32m78.3/78.3 kB\u001B[0m \u001B[31m10.0 MB/s\u001B[0m eta \u001B[36m0:00:00\u001B[0m\r\n",
      "\u001B[?25hCollecting python-slugify (from kaggle)\r\n",
      "  Downloading https://pypi.tuna.tsinghua.edu.cn/packages/a4/62/02da182e544a51a5c3ccf4b03ab79df279f9c60c5e82d5e8bec7ca26ac11/python_slugify-8.0.4-py2.py3-none-any.whl (10 kB)\r\n",
      "Requirement already satisfied: urllib3 in /opt/homebrew/lib/python3.11/site-packages (from kaggle) (2.0.7)\r\n",
      "Requirement already satisfied: bleach in /Users/wii/Library/Python/3.11/lib/python/site-packages (from kaggle) (6.1.0)\r\n",
      "Requirement already satisfied: webencodings in /Users/wii/Library/Python/3.11/lib/python/site-packages (from bleach->kaggle) (0.5.1)\r\n",
      "Collecting text-unidecode>=1.3 (from python-slugify->kaggle)\r\n",
      "  Downloading https://pypi.tuna.tsinghua.edu.cn/packages/a6/a5/c0b6468d3824fe3fde30dbb5e1f687b291608f9473681bbf7dabbf5a87d7/text_unidecode-1.3-py2.py3-none-any.whl (78 kB)\r\n",
      "\u001B[2K     \u001B[90m━━━━━━━━━━━━━━━━━━━━━━━━━━━━━━━━━━━━━━━━\u001B[0m \u001B[32m78.2/78.2 kB\u001B[0m \u001B[31m11.9 MB/s\u001B[0m eta \u001B[36m0:00:00\u001B[0m\r\n",
      "\u001B[?25hRequirement already satisfied: charset-normalizer<4,>=2 in /Users/wii/Library/Python/3.11/lib/python/site-packages (from requests->kaggle) (3.3.2)\r\n",
      "Requirement already satisfied: idna<4,>=2.5 in /Users/wii/Library/Python/3.11/lib/python/site-packages (from requests->kaggle) (3.6)\r\n",
      "Building wheels for collected packages: kaggle\r\n",
      "  Building wheel for kaggle (setup.py) ... \u001B[?25ldone\r\n",
      "\u001B[?25h  Created wheel for kaggle: filename=kaggle-1.6.14-py3-none-any.whl size=105120 sha256=250d6bc0a7380c4dbdf401983b5298e4723c133c32c814c658c2e0125884bd7e\r\n",
      "  Stored in directory: /Users/wii/Library/Caches/pip/wheels/da/0f/ce/58d77e67b1220cbfafefd56bbe1c752a72b42b44b0d389beeb\r\n",
      "Successfully built kaggle\r\n",
      "Installing collected packages: text-unidecode, tqdm, python-slugify, kaggle\r\n",
      "Successfully installed kaggle-1.6.14 python-slugify-8.0.4 text-unidecode-1.3 tqdm-4.66.4\r\n",
      "\r\n",
      "\u001B[1m[\u001B[0m\u001B[34;49mnotice\u001B[0m\u001B[1;39;49m]\u001B[0m\u001B[39;49m A new release of pip is available: \u001B[0m\u001B[31;49m23.3.1\u001B[0m\u001B[39;49m -> \u001B[0m\u001B[32;49m24.0\u001B[0m\r\n",
      "\u001B[1m[\u001B[0m\u001B[34;49mnotice\u001B[0m\u001B[1;39;49m]\u001B[0m\u001B[39;49m To update, run: \u001B[0m\u001B[32;49mpython3.11 -m pip install --upgrade pip\u001B[0m\r\n"
     ]
    }
   ],
   "execution_count": 1
  },
  {
   "cell_type": "code",
   "execution_count": null,
   "id": "c374c73f-dd95-4f53-967d-d7c79b13c730",
   "metadata": {},
   "outputs": [],
   "source": []
  }
 ],
 "metadata": {
  "kernelspec": {
   "display_name": "Python 3 (ipykernel)",
   "language": "python",
   "name": "python3"
  },
  "language_info": {
   "codemirror_mode": {
    "name": "ipython",
    "version": 3
   },
   "file_extension": ".py",
   "mimetype": "text/x-python",
   "name": "python",
   "nbconvert_exporter": "python",
   "pygments_lexer": "ipython3",
   "version": "3.10.12"
  }
 },
 "nbformat": 4,
 "nbformat_minor": 5
}
