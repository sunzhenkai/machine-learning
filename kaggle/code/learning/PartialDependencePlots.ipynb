{
 "cells": [
  {
   "cell_type": "markdown",
   "metadata": {},
   "source": [
    "# 什么是 Partial Dependence Plots?\n",
    "部分依赖图显示每个变量或预测因子如何影响模型的预测。\n",
    "\n",
    "以预测 Melbourne 房屋价格为例。\n",
    "![](img/004.png)\n",
    "左侧折线图显示的是房子与 Melbourne CBD 的距离和房屋价格的关系。\n",
    "\n",
    "**只有在模型被fit之后，才能计算局部依赖图。** 在真实数据中，城镇不同地区的房屋可能会有很多不同的地方(面积、年龄等)。在模型被fit之后，可以从房子的所有特征开始，去预测某个房子的单个因素对房价的影响。\n",
    "\n",
    "然后使用fit后的模型来预测该房屋的价格，但是在做出预测之前，改变距离变量。首先预测该房子在距离为4时的价格、然后设定距离为5、6等。追踪预测价格如何变化（在垂直轴上），随着从较小的距离值移动到较大的值（在水平轴上）。\n",
    "\n",
    "在这个描述中，只用了一间房子。但由于相互作用，单个房屋的部分依赖图可能并不典型。因此，用多个房屋重复这个实验，然后在垂直轴上绘制平均预测价格。会看到一些负数，这意味着价格会低于该距离的实际平均价格。\n",
    "\n",
    "这些图很有用，可以提取知识，同时也有助于检查模型是否正在学习你认为合理的东西。\n",
    "\n",
    "**代码**"
   ]
  },
  {
   "cell_type": "code",
   "execution_count": 6,
   "metadata": {},
   "source": [
    "import pandas as pd\n",
    "from sklearn.preprocessing import Imputer\n",
    "\n",
    "data = pd.read_csv('input/melb_data.csv')\n",
    "\n",
    "data.describe()\n",
    "print(data.axes[0])\n",
    "print()\n",
    "print(data.axes[1])"
   ],
   "outputs": []
  },
  {
   "cell_type": "code",
   "execution_count": 7,
   "metadata": {},
   "source": [
    "def get_some_data():\n",
    "    cols_to_use = ['Distance', 'Landsize', 'BuildingArea']\n",
    "    data = pd.read_csv('input/melb_data.csv')\n",
    "    y = data.Price\n",
    "    X = data[cols_to_use]\n",
    "    my_imputer = Imputer()\n",
    "    imputed_X = my_imputer.fit_transform(X)\n",
    "    return imputed_X, y"
   ],
   "outputs": []
  },
  {
   "cell_type": "code",
   "execution_count": 8,
   "metadata": {},
   "source": [
    "from sklearn.ensemble.partial_dependence import partial_dependence, plot_partial_dependence\n",
    "from sklearn.ensemble import GradientBoostingRegressor\n",
    "\n",
    "X, y = get_some_data()\n",
    "\n",
    "my_model = GradientBoostingRegressor()\n",
    "my_model.fit(X, y)\n",
    "my_plots = plot_partial_dependence(my_model, features=[0, 2], # 需要显示的列号\n",
    "                                   X=X, # 原始预测因子数据\n",
    "                                   feature_names=['Distance', 'Landsize', 'BuildingArea'], # 图标签\n",
    "                                   grid_resolution=10) # 绘图中x轴值数量"
   ],
   "outputs": []
  }
 ],
 "metadata": {
  "kernelspec": {
   "display_name": "Python 3",
   "language": "python",
   "name": "python3"
  },
  "language_info": {
   "codemirror_mode": {
    "name": "ipython",
    "version": 3
   },
   "file_extension": ".py",
   "mimetype": "text/x-python",
   "name": "python",
   "nbconvert_exporter": "python",
   "pygments_lexer": "ipython3",
   "version": "3.6.4"
  }
 },
 "nbformat": 4,
 "nbformat_minor": 2
}
