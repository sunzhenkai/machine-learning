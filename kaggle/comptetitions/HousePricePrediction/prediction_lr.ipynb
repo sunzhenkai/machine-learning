{
 "cells": [
  {
   "cell_type": "markdown",
   "id": "b1a812d0-d509-4fd0-b5b5-3cab6ed4ee93",
   "metadata": {},
   "source": [
    "# LR(线性回归预测)"
   ]
  },
  {
   "cell_type": "markdown",
   "id": "cb71c04c-e686-4751-b671-1db09865855e",
   "metadata": {},
   "source": [
    "# 加载数据集"
   ]
  },
  {
   "cell_type": "code",
   "execution_count": 3,
   "id": "ef2edbcf-56e9-4f32-bc2f-306fe4511edb",
   "metadata": {},
   "outputs": [
    {
     "name": "stdout",
     "output_type": "stream",
     "text": [
      "/home/wii/code/machine-learning /home/wii/code/machine-learning/kaggle/comptetitions/HousePricePrediction\n",
      "Shape: (59,) , Rows: 1460\n"
     ]
    }
   ],
   "source": [
    "import os\n",
    "import sys\n",
    "# 处理工程目录\n",
    "repo_root_path = str(os.path.abspath('')).replace('/kaggle/comptetitions/HousePricePrediction', '')\n",
    "# print(os.path.abspath(''), os.path.abspath(repo_root_path))\n",
    "sys.path.append(os.path.abspath(repo_root_path))\n",
    "sys.path.append(os.path.abspath(os.path.abspath('')))\n",
    "\n",
    "# 导入依赖库\n",
    "from internal.feature.feature_engineering import *\n",
    "from common import *\n",
    "from feature_engineering_v1 import *"
   ]
  },
  {
   "cell_type": "markdown",
   "id": "079b53ee-e728-4784-97f2-6c35a2fdc2cd",
   "metadata": {},
   "source": [
    "# Split Data"
   ]
  },
  {
   "cell_type": "code",
   "execution_count": 10,
   "id": "f5157c1f-d8a7-4cd3-b9a7-51f30f6c1f18",
   "metadata": {},
   "outputs": [],
   "source": [
    "# def sklearn_lr():\n",
    "#     from sklearn import linear_model as lm\n",
    "#     lr = lm.LogisticRegression(max_iter=3000)\n",
    "#     lr.fit(dm.train_x, dm.train_y)"
   ]
  },
  {
   "cell_type": "code",
   "execution_count": 4,
   "id": "62620338-09c8-4a23-ba38-5cdbed08eaed",
   "metadata": {},
   "outputs": [
    {
     "name": "stdout",
     "output_type": "stream",
     "text": [
      "MSSubClass        int64\n",
      "MSZoning         object\n",
      "Street           object\n",
      "Alley            object\n",
      "LotShape         object\n",
      "LandContour      object\n",
      "Utilities        object\n",
      "LotConfig        object\n",
      "LandSlope        object\n",
      "Neighborhood     object\n",
      "Condition1       object\n",
      "Condition2       object\n",
      "BldgType         object\n",
      "HouseStyle       object\n",
      "OverallQual       int64\n",
      "OverallCond       int64\n",
      "YearBuilt         int64\n",
      "YearRemodAdd      int64\n",
      "RoofStyle        object\n",
      "RoofMatl         object\n",
      "Exterior1st      object\n",
      "Exterior2nd      object\n",
      "MasVnrType       object\n",
      "ExterQual        object\n",
      "ExterCond        object\n",
      "Foundation       object\n",
      "BsmtQual         object\n",
      "BsmtCond         object\n",
      "BsmtExposure     object\n",
      "BsmtFinType1     object\n",
      "BsmtFinType2     object\n",
      "Heating          object\n",
      "HeatingQC        object\n",
      "CentralAir       object\n",
      "Electrical       object\n",
      "BsmtFullBath      int64\n",
      "BsmtHalfBath      int64\n",
      "FullBath          int64\n",
      "HalfBath          int64\n",
      "BedroomAbvGr      int64\n",
      "KitchenAbvGr      int64\n",
      "KitchenQual      object\n",
      "TotRmsAbvGrd      int64\n",
      "Functional       object\n",
      "Fireplaces        int64\n",
      "FireplaceQu      object\n",
      "GarageType       object\n",
      "GarageYrBlt      object\n",
      "GarageFinish     object\n",
      "GarageCars        int64\n",
      "GarageQual       object\n",
      "GarageCond       object\n",
      "PavedDrive       object\n",
      "PoolQC           object\n",
      "MiscFeature      object\n",
      "MoSold            int64\n",
      "YrSold            int64\n",
      "SaleType         object\n",
      "SaleCondition    object\n",
      "dtype: object\n"
     ]
    }
   ],
   "source": [
    "print(dm.train_x.dtypes)"
   ]
  },
  {
   "cell_type": "code",
   "execution_count": null,
   "id": "1513dca0-9c6a-40d9-8615-652ab3620f73",
   "metadata": {},
   "outputs": [],
   "source": []
  }
 ],
 "metadata": {
  "kernelspec": {
   "display_name": "Python 3 (ipykernel)",
   "language": "python",
   "name": "python3"
  },
  "language_info": {
   "codemirror_mode": {
    "name": "ipython",
    "version": 3
   },
   "file_extension": ".py",
   "mimetype": "text/x-python",
   "name": "python",
   "nbconvert_exporter": "python",
   "pygments_lexer": "ipython3",
   "version": "3.12.4"
  }
 },
 "nbformat": 4,
 "nbformat_minor": 5
}
