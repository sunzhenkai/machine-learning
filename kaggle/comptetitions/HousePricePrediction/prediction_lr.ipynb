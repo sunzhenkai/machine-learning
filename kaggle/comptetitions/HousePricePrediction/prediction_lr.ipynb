{
 "cells": [
  {
   "cell_type": "markdown",
   "id": "b1a812d0-d509-4fd0-b5b5-3cab6ed4ee93",
   "metadata": {},
   "source": [
    "# LR(线性回归预测)"
   ]
  },
  {
   "cell_type": "markdown",
   "id": "cb71c04c-e686-4751-b671-1db09865855e",
   "metadata": {},
   "source": [
    "# 加载数据集"
   ]
  },
  {
   "cell_type": "code",
   "execution_count": 2,
   "id": "ef2edbcf-56e9-4f32-bc2f-306fe4511edb",
   "metadata": {},
   "outputs": [
    {
     "name": "stdout",
     "output_type": "stream",
     "text": [
      "OK\n",
      "/home/wii/code/machine-learning /home/wii/code/machine-learning/kaggle/comptetitions/HousePricePrediction\n",
      "v1 features: ['Id', 'MSSubClass', 'MSZoning', 'Street', 'Alley', 'LotShape', 'LandContour', 'Utilities', 'LotConfig', 'LandSlope', 'Neighborhood', 'Condition1', 'Condition2', 'BldgType', 'HouseStyle', 'OverallQual', 'OverallCond', 'YearBuilt', 'YearRemodAdd', 'RoofStyle', 'RoofMatl', 'Exterior1st', 'Exterior2nd', 'MasVnrType', 'ExterQual', 'ExterCond', 'Foundation', 'BsmtQual', 'BsmtCond', 'BsmtExposure', 'BsmtFinType1', 'BsmtFinType2', 'Heating', 'HeatingQC', 'CentralAir', 'Electrical', 'BsmtFullBath', 'BsmtHalfBath', 'FullBath', 'HalfBath', 'BedroomAbvGr', 'KitchenAbvGr', 'KitchenQual', 'TotRmsAbvGrd', 'Functional', 'Fireplaces', 'FireplaceQu', 'GarageType', 'GarageYrBlt', 'GarageFinish', 'GarageCars', 'GarageQual', 'GarageCond', 'PavedDrive', 'PoolQC', 'MiscFeature', 'MoSold', 'YrSold', 'SaleType', 'SaleCondition', 'SalePrice']\n"
     ]
    }
   ],
   "source": [
    "import os\n",
    "import sys\n",
    "repo_root_path = str(os.path.abspath('')).replace('/kaggle/comptetitions/HousePricePrediction', '')\n",
    "# print(os.path.abspath(''), os.path.abspath(repo_root_path))\n",
    "sys.path.append(os.path.abspath(repo_root_path))\n",
    "sys.path.append(os.path.abspath(os.path.abspath('')))\n",
    "\n",
    "from internal.feature.feature_engineering import *\n",
    "from common import *\n",
    "from feature_engineering_v1 import *"
   ]
  },
  {
   "cell_type": "markdown",
   "id": "079b53ee-e728-4784-97f2-6c35a2fdc2cd",
   "metadata": {},
   "source": [
    "# Split Data"
   ]
  },
  {
   "cell_type": "code",
   "execution_count": 10,
   "id": "f5157c1f-d8a7-4cd3-b9a7-51f30f6c1f18",
   "metadata": {},
   "outputs": [],
   "source": [
    "# def sklearn_lr():\n",
    "#     from sklearn import linear_model as lm\n",
    "#     lr = lm.LogisticRegression(max_iter=3000)\n",
    "#     lr.fit(dm.train_x, dm.train_y)"
   ]
  },
  {
   "cell_type": "code",
   "execution_count": 4,
   "id": "62620338-09c8-4a23-ba38-5cdbed08eaed",
   "metadata": {},
   "outputs": [
    {
     "name": "stdout",
     "output_type": "stream",
     "text": [
      "Alley            int64\n",
      "BedroomAbvGr     int64\n",
      "BldgType         int64\n",
      "BsmtCond         int64\n",
      "BsmtExposure     int64\n",
      "BsmtFinType1     int64\n",
      "BsmtFinType2     int64\n",
      "BsmtFullBath     int64\n",
      "BsmtHalfBath     int64\n",
      "BsmtQual         int64\n",
      "CentralAir       int64\n",
      "Condition1       int64\n",
      "Condition2       int64\n",
      "Electrical       int64\n",
      "ExterCond        int64\n",
      "ExterQual        int64\n",
      "Exterior1st      int64\n",
      "Exterior2nd      int64\n",
      "FireplaceQu      int64\n",
      "Fireplaces       int64\n",
      "Foundation       int64\n",
      "FullBath         int64\n",
      "Functional       int64\n",
      "GarageCars       int64\n",
      "GarageCond       int64\n",
      "GarageFinish     int64\n",
      "GarageQual       int64\n",
      "GarageType       int64\n",
      "GarageYrBlt      int64\n",
      "HalfBath         int64\n",
      "Heating          int64\n",
      "HeatingQC        int64\n",
      "HouseStyle       int64\n",
      "Id               int64\n",
      "KitchenAbvGr     int64\n",
      "KitchenQual      int64\n",
      "LandContour      int64\n",
      "LandSlope        int64\n",
      "LotConfig        int64\n",
      "LotShape         int64\n",
      "MSSubClass       int64\n",
      "MSZoning         int64\n",
      "MasVnrType       int64\n",
      "MiscFeature      int64\n",
      "MoSold           int64\n",
      "Neighborhood     int64\n",
      "OverallCond      int64\n",
      "OverallQual      int64\n",
      "PavedDrive       int64\n",
      "PoolQC           int64\n",
      "RoofMatl         int64\n",
      "RoofStyle        int64\n",
      "SaleCondition    int64\n",
      "SaleType         int64\n",
      "Street           int64\n",
      "TotRmsAbvGrd     int64\n",
      "Utilities        int64\n",
      "YearBuilt        int64\n",
      "YearRemodAdd     int64\n",
      "YrSold           int64\n",
      "dtype: object\n"
     ]
    }
   ],
   "source": [
    "print(dm.train_x.dtypes)"
   ]
  },
  {
   "cell_type": "code",
   "execution_count": null,
   "id": "1513dca0-9c6a-40d9-8615-652ab3620f73",
   "metadata": {},
   "outputs": [],
   "source": []
  }
 ],
 "metadata": {
  "kernelspec": {
   "display_name": "Python 3 (ipykernel)",
   "language": "python",
   "name": "python3"
  },
  "language_info": {
   "codemirror_mode": {
    "name": "ipython",
    "version": 3
   },
   "file_extension": ".py",
   "mimetype": "text/x-python",
   "name": "python",
   "nbconvert_exporter": "python",
   "pygments_lexer": "ipython3",
   "version": "3.12.4"
  }
 },
 "nbformat": 4,
 "nbformat_minor": 5
}
