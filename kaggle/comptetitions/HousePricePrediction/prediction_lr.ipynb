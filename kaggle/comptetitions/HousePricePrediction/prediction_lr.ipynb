{
 "cells": [
  {
   "cell_type": "markdown",
   "id": "b1a812d0-d509-4fd0-b5b5-3cab6ed4ee93",
   "metadata": {},
   "source": [
    "# LR(线性回归预测)"
   ]
  },
  {
   "cell_type": "markdown",
   "id": "cb71c04c-e686-4751-b671-1db09865855e",
   "metadata": {},
   "source": [
    "# 加载数据集"
   ]
  },
  {
   "cell_type": "code",
   "execution_count": 1,
   "id": "ef2edbcf-56e9-4f32-bc2f-306fe4511edb",
   "metadata": {},
   "outputs": [
    {
     "name": "stdout",
     "output_type": "stream",
     "text": [
      "OK\n",
      "v1 features: ['Id', 'MSSubClass', 'MSZoning', 'Street', 'Alley', 'LotShape', 'LandContour', 'Utilities', 'LotConfig', 'LandSlope', 'Neighborhood', 'Condition1', 'Condition2', 'BldgType', 'HouseStyle', 'OverallQual', 'OverallCond', 'YearBuilt', 'YearRemodAdd', 'RoofStyle', 'RoofMatl', 'Exterior1st', 'Exterior2nd', 'MasVnrType', 'ExterQual', 'ExterCond', 'Foundation', 'BsmtQual', 'BsmtCond', 'BsmtExposure', 'BsmtFinType1', 'BsmtFinType2', 'Heating', 'HeatingQC', 'CentralAir', 'Electrical', 'BsmtFullBath', 'BsmtHalfBath', 'FullBath', 'HalfBath', 'BedroomAbvGr', 'KitchenAbvGr', 'KitchenQual', 'TotRmsAbvGrd', 'Functional', 'Fireplaces', 'FireplaceQu', 'GarageType', 'GarageYrBlt', 'GarageFinish', 'GarageCars', 'GarageQual', 'GarageCond', 'PavedDrive', 'PoolQC', 'MiscFeature', 'MoSold', 'YrSold', 'SaleType', 'SaleCondition', 'SalePrice']\n"
     ]
    }
   ],
   "source": [
    "import os\n",
    "import sys\n",
    "repo_root_path = str(os.path.abspath('')).replace('/kaggle/comptetitions/HousePricePrediction', '')\n",
    "# print(os.path.abspath(''), os.path.abspath(repo_root_path))\n",
    "sys.path.append(os.path.abspath(repo_root_path))\n",
    "sys.path.append(os.path.abspath(os.path.abspath('')))\n",
    "\n",
    "from internal.feature_engineering import *\n",
    "from common import *\n",
    "from feature_engineering_v1 import *"
   ]
  },
  {
   "cell_type": "markdown",
   "id": "079b53ee-e728-4784-97f2-6c35a2fdc2cd",
   "metadata": {},
   "source": [
    "# Split Data"
   ]
  },
  {
   "cell_type": "code",
   "execution_count": 10,
   "id": "f5157c1f-d8a7-4cd3-b9a7-51f30f6c1f18",
   "metadata": {},
   "outputs": [],
   "source": [
    "def sklearn_lr():\n",
    "    from sklearn import linear_model as lm\n",
    "    lr = lm.LogisticRegression(max_iter=3000)\n",
    "    lr.fit(dm.train_x, dm.train_y)"
   ]
  },
  {
   "cell_type": "code",
   "execution_count": 12,
   "id": "62620338-09c8-4a23-ba38-5cdbed08eaed",
   "metadata": {},
   "outputs": [],
   "source": [
    "#sklearn_lr()"
   ]
  },
  {
   "cell_type": "markdown",
   "id": "389fd743-f207-42c0-be89-0569c0c29dbb",
   "metadata": {},
   "source": [
    "# PyTorch With GPU"
   ]
  },
  {
   "cell_type": "code",
   "execution_count": 13,
   "id": "db737b73-2c00-4877-a2f9-6cbc608489bb",
   "metadata": {},
   "outputs": [],
   "source": [
    "import torch\n",
    "from torch.autograd import Variable"
   ]
  },
  {
   "cell_type": "code",
   "execution_count": null,
   "id": "4a3023ab-202a-4def-ba73-e45f06f37386",
   "metadata": {},
   "outputs": [],
   "source": [
    "class LinearRegressionModel(torch.nn.Module):\n",
    "    def __init__(self):\n",
    "        super(LinearRegressionModel, self).__init__()\n",
    "        self.linear = torch.nn.Linear(1, 1)\n",
    "\n",
    "    def forward(self, x):\n",
    "        return self.linear(x)\n"
   ]
  }
 ],
 "metadata": {
  "kernelspec": {
   "display_name": "Python 3 (ipykernel)",
   "language": "python",
   "name": "python3"
  },
  "language_info": {
   "codemirror_mode": {
    "name": "ipython",
    "version": 3
   },
   "file_extension": ".py",
   "mimetype": "text/x-python",
   "name": "python",
   "nbconvert_exporter": "python",
   "pygments_lexer": "ipython3",
   "version": "3.10.12"
  }
 },
 "nbformat": 4,
 "nbformat_minor": 5
}
