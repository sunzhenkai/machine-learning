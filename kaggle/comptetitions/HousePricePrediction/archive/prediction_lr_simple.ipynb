{
 "cells": [
  {
   "cell_type": "markdown",
   "id": "4bf38267-46c1-4b41-a233-7d60153e3a23",
   "metadata": {},
   "source": [
    "# 最简单版本\n",
    "使用 LR 模型进行预测，且无脑使用所有特征且不做转换"
   ]
  },
  {
   "cell_type": "code",
   "execution_count": 15,
   "id": "e4786a20-ca70-4326-865d-70a38b7cc5e0",
   "metadata": {},
   "outputs": [],
   "source": [
    "import pandas as pd\n",
    "import numpy as np\n",
    "import seaborn as sns\n",
    "import matplotlib.pyplot as plt\n",
    "import sklearn\n",
    "from scipy.stats import skew\n",
    "from scipy.stats import pearsonr\n",
    "\n",
    "%config InlineBackend.figure_format = 'retina' #set 'png' here when working on notebook\n",
    "%matplotlib inline\n",
    "\n",
    "train = pd.read_csv(\"./data/train.csv\")\n",
    "test = pd.read_csv(\"./data/test.csv\")"
   ]
  },
  {
   "cell_type": "code",
   "execution_count": 16,
   "id": "8521848c-a898-457a-b670-5985721bde73",
   "metadata": {},
   "outputs": [
    {
     "name": "stdout",
     "output_type": "stream",
     "text": [
      "Index(['Id', 'MSSubClass', 'MSZoning', 'LotFrontage', 'LotArea', 'Street',\n",
      "       'Alley', 'LotShape', 'LandContour', 'Utilities', 'LotConfig',\n",
      "       'LandSlope', 'Neighborhood', 'Condition1', 'Condition2', 'BldgType',\n",
      "       'HouseStyle', 'OverallQual', 'OverallCond', 'YearBuilt', 'YearRemodAdd',\n",
      "       'RoofStyle', 'RoofMatl', 'Exterior1st', 'Exterior2nd', 'MasVnrType',\n",
      "       'MasVnrArea', 'ExterQual', 'ExterCond', 'Foundation', 'BsmtQual',\n",
      "       'BsmtCond', 'BsmtExposure', 'BsmtFinType1', 'BsmtFinSF1',\n",
      "       'BsmtFinType2', 'BsmtFinSF2', 'BsmtUnfSF', 'TotalBsmtSF', 'Heating',\n",
      "       'HeatingQC', 'CentralAir', 'Electrical', '1stFlrSF', '2ndFlrSF',\n",
      "       'LowQualFinSF', 'GrLivArea', 'BsmtFullBath', 'BsmtHalfBath', 'FullBath',\n",
      "       'HalfBath', 'BedroomAbvGr', 'KitchenAbvGr', 'KitchenQual',\n",
      "       'TotRmsAbvGrd', 'Functional', 'Fireplaces', 'FireplaceQu', 'GarageType',\n",
      "       'GarageYrBlt', 'GarageFinish', 'GarageCars', 'GarageArea', 'GarageQual',\n",
      "       'GarageCond', 'PavedDrive', 'WoodDeckSF', 'OpenPorchSF',\n",
      "       'EnclosedPorch', '3SsnPorch', 'ScreenPorch', 'PoolArea', 'PoolQC',\n",
      "       'Fence', 'MiscFeature', 'MiscVal', 'MoSold', 'YrSold', 'SaleType',\n",
      "       'SaleCondition', 'SalePrice'],\n",
      "      dtype='object')\n"
     ]
    }
   ],
   "source": [
    "print(train.columns)"
   ]
  },
  {
   "cell_type": "code",
   "execution_count": 55,
   "id": "5a4ab922-7086-44bb-b06e-35711e117a4c",
   "metadata": {},
   "outputs": [],
   "source": [
    "# 数据处理\n",
    "# 1. 删除所有有 Nan 的列\n",
    "# 2. 只选取类型为 number 的列\n",
    "def process_data(df: pd.DataFrame):\n",
    "    # \baxis=1: remove column\n",
    "    df = df.dropna(axis=1, how='any')\n",
    "    df = df.select_dtypes(include='number')\n",
    "    return df\n",
    "# 训练数据, 排除 SalePrice 列\n",
    "train_data = train.loc[:, train.columns != 'SalePrice']\n",
    "train_label = train.SalePrice\n",
    "# 生成初识训练、测试数据集\n",
    "train_processed = process_data(train_data)\n",
    "test_processed = process_data(test)\n",
    "# 选取两组数据集的列交接\n",
    "columns = set(train_processed.columns)\n",
    "columns = columns.intersection(set(test_processed.columns))\n",
    "columns = list(columns)\n",
    "# 生成最终用的训练、测试数据集\n",
    "train_processed = train_processed[columns]\n",
    "test_processed = test_processed[columns]"
   ]
  },
  {
   "cell_type": "code",
   "execution_count": 56,
   "id": "d0ef5570-1984-4b29-b6ef-e80797d61e6e",
   "metadata": {},
   "outputs": [
    {
     "data": {
      "text/html": [
       "<div>\n",
       "<style scoped>\n",
       "    .dataframe tbody tr th:only-of-type {\n",
       "        vertical-align: middle;\n",
       "    }\n",
       "\n",
       "    .dataframe tbody tr th {\n",
       "        vertical-align: top;\n",
       "    }\n",
       "\n",
       "    .dataframe thead th {\n",
       "        text-align: right;\n",
       "    }\n",
       "</style>\n",
       "<table border=\"1\" class=\"dataframe\">\n",
       "  <thead>\n",
       "    <tr style=\"text-align: right;\">\n",
       "      <th></th>\n",
       "      <th>MoSold</th>\n",
       "      <th>Id</th>\n",
       "      <th>2ndFlrSF</th>\n",
       "      <th>ScreenPorch</th>\n",
       "      <th>HalfBath</th>\n",
       "      <th>YrSold</th>\n",
       "      <th>GrLivArea</th>\n",
       "      <th>EnclosedPorch</th>\n",
       "      <th>MSSubClass</th>\n",
       "      <th>MiscVal</th>\n",
       "      <th>...</th>\n",
       "      <th>OverallQual</th>\n",
       "      <th>LowQualFinSF</th>\n",
       "      <th>1stFlrSF</th>\n",
       "      <th>FullBath</th>\n",
       "      <th>BedroomAbvGr</th>\n",
       "      <th>YearBuilt</th>\n",
       "      <th>Fireplaces</th>\n",
       "      <th>KitchenAbvGr</th>\n",
       "      <th>WoodDeckSF</th>\n",
       "      <th>3SsnPorch</th>\n",
       "    </tr>\n",
       "  </thead>\n",
       "  <tbody>\n",
       "    <tr>\n",
       "      <th>912</th>\n",
       "      <td>7</td>\n",
       "      <td>913</td>\n",
       "      <td>0</td>\n",
       "      <td>120</td>\n",
       "      <td>0</td>\n",
       "      <td>2006</td>\n",
       "      <td>1015</td>\n",
       "      <td>112</td>\n",
       "      <td>30</td>\n",
       "      <td>620</td>\n",
       "      <td>...</td>\n",
       "      <td>5</td>\n",
       "      <td>0</td>\n",
       "      <td>1015</td>\n",
       "      <td>1</td>\n",
       "      <td>3</td>\n",
       "      <td>1925</td>\n",
       "      <td>0</td>\n",
       "      <td>1</td>\n",
       "      <td>0</td>\n",
       "      <td>0</td>\n",
       "    </tr>\n",
       "    <tr>\n",
       "      <th>373</th>\n",
       "      <td>11</td>\n",
       "      <td>374</td>\n",
       "      <td>0</td>\n",
       "      <td>0</td>\n",
       "      <td>0</td>\n",
       "      <td>2009</td>\n",
       "      <td>1319</td>\n",
       "      <td>0</td>\n",
       "      <td>20</td>\n",
       "      <td>0</td>\n",
       "      <td>...</td>\n",
       "      <td>5</td>\n",
       "      <td>0</td>\n",
       "      <td>1319</td>\n",
       "      <td>1</td>\n",
       "      <td>3</td>\n",
       "      <td>1953</td>\n",
       "      <td>0</td>\n",
       "      <td>1</td>\n",
       "      <td>66</td>\n",
       "      <td>0</td>\n",
       "    </tr>\n",
       "    <tr>\n",
       "      <th>20</th>\n",
       "      <td>11</td>\n",
       "      <td>21</td>\n",
       "      <td>1218</td>\n",
       "      <td>0</td>\n",
       "      <td>1</td>\n",
       "      <td>2006</td>\n",
       "      <td>2376</td>\n",
       "      <td>0</td>\n",
       "      <td>60</td>\n",
       "      <td>0</td>\n",
       "      <td>...</td>\n",
       "      <td>8</td>\n",
       "      <td>0</td>\n",
       "      <td>1158</td>\n",
       "      <td>3</td>\n",
       "      <td>4</td>\n",
       "      <td>2005</td>\n",
       "      <td>1</td>\n",
       "      <td>1</td>\n",
       "      <td>240</td>\n",
       "      <td>0</td>\n",
       "    </tr>\n",
       "    <tr>\n",
       "      <th>800</th>\n",
       "      <td>5</td>\n",
       "      <td>801</td>\n",
       "      <td>1072</td>\n",
       "      <td>0</td>\n",
       "      <td>1</td>\n",
       "      <td>2008</td>\n",
       "      <td>1688</td>\n",
       "      <td>185</td>\n",
       "      <td>60</td>\n",
       "      <td>400</td>\n",
       "      <td>...</td>\n",
       "      <td>6</td>\n",
       "      <td>0</td>\n",
       "      <td>616</td>\n",
       "      <td>2</td>\n",
       "      <td>4</td>\n",
       "      <td>1997</td>\n",
       "      <td>0</td>\n",
       "      <td>1</td>\n",
       "      <td>403</td>\n",
       "      <td>0</td>\n",
       "    </tr>\n",
       "    <tr>\n",
       "      <th>152</th>\n",
       "      <td>6</td>\n",
       "      <td>153</td>\n",
       "      <td>896</td>\n",
       "      <td>0</td>\n",
       "      <td>1</td>\n",
       "      <td>2006</td>\n",
       "      <td>1993</td>\n",
       "      <td>0</td>\n",
       "      <td>60</td>\n",
       "      <td>0</td>\n",
       "      <td>...</td>\n",
       "      <td>6</td>\n",
       "      <td>0</td>\n",
       "      <td>1097</td>\n",
       "      <td>2</td>\n",
       "      <td>4</td>\n",
       "      <td>1971</td>\n",
       "      <td>1</td>\n",
       "      <td>1</td>\n",
       "      <td>0</td>\n",
       "      <td>0</td>\n",
       "    </tr>\n",
       "  </tbody>\n",
       "</table>\n",
       "<p>5 rows × 26 columns</p>\n",
       "</div>"
      ],
      "text/plain": [
       "     MoSold   Id  2ndFlrSF  ScreenPorch  HalfBath  YrSold  GrLivArea  \\\n",
       "912       7  913         0          120         0    2006       1015   \n",
       "373      11  374         0            0         0    2009       1319   \n",
       "20       11   21      1218            0         1    2006       2376   \n",
       "800       5  801      1072            0         1    2008       1688   \n",
       "152       6  153       896            0         1    2006       1993   \n",
       "\n",
       "     EnclosedPorch  MSSubClass  MiscVal  ...  OverallQual  LowQualFinSF  \\\n",
       "912            112          30      620  ...            5             0   \n",
       "373              0          20        0  ...            5             0   \n",
       "20               0          60        0  ...            8             0   \n",
       "800            185          60      400  ...            6             0   \n",
       "152              0          60        0  ...            6             0   \n",
       "\n",
       "     1stFlrSF  FullBath  BedroomAbvGr  YearBuilt  Fireplaces  KitchenAbvGr  \\\n",
       "912      1015         1             3       1925           0             1   \n",
       "373      1319         1             3       1953           0             1   \n",
       "20       1158         3             4       2005           1             1   \n",
       "800       616         2             4       1997           0             1   \n",
       "152      1097         2             4       1971           1             1   \n",
       "\n",
       "     WoodDeckSF  3SsnPorch  \n",
       "912           0          0  \n",
       "373          66          0  \n",
       "20          240          0  \n",
       "800         403          0  \n",
       "152           0          0  \n",
       "\n",
       "[5 rows x 26 columns]"
      ]
     },
     "execution_count": 56,
     "metadata": {},
     "output_type": "execute_result"
    }
   ],
   "source": [
    "from sklearn.model_selection import train_test_split\n",
    "train_X, test_X, train_Y, test_Y = train_test_split(train_processed, train_label, test_size=0.3, random_state=10)\n",
    "train_X.head()"
   ]
  },
  {
   "cell_type": "code",
   "execution_count": 58,
   "id": "df9fb4f4-1763-4b0d-972d-25e1a42d8c6f",
   "metadata": {},
   "outputs": [
    {
     "name": "stderr",
     "output_type": "stream",
     "text": [
      "/usr/local/lib/python3.10/dist-packages/sklearn/linear_model/_logistic.py:460: ConvergenceWarning: lbfgs failed to converge (status=1):\n",
      "STOP: TOTAL NO. of ITERATIONS REACHED LIMIT.\n",
      "\n",
      "Increase the number of iterations (max_iter) or scale the data as shown in:\n",
      "    https://scikit-learn.org/stable/modules/preprocessing.html\n",
      "Please also refer to the documentation for alternative solver options:\n",
      "    https://scikit-learn.org/stable/modules/linear_model.html#logistic-regression\n",
      "  n_iter_i = _check_optimize_result(\n"
     ]
    },
    {
     "data": {
      "text/html": [
       "<style>#sk-container-id-4 {color: black;}#sk-container-id-4 pre{padding: 0;}#sk-container-id-4 div.sk-toggleable {background-color: white;}#sk-container-id-4 label.sk-toggleable__label {cursor: pointer;display: block;width: 100%;margin-bottom: 0;padding: 0.3em;box-sizing: border-box;text-align: center;}#sk-container-id-4 label.sk-toggleable__label-arrow:before {content: \"▸\";float: left;margin-right: 0.25em;color: #696969;}#sk-container-id-4 label.sk-toggleable__label-arrow:hover:before {color: black;}#sk-container-id-4 div.sk-estimator:hover label.sk-toggleable__label-arrow:before {color: black;}#sk-container-id-4 div.sk-toggleable__content {max-height: 0;max-width: 0;overflow: hidden;text-align: left;background-color: #f0f8ff;}#sk-container-id-4 div.sk-toggleable__content pre {margin: 0.2em;color: black;border-radius: 0.25em;background-color: #f0f8ff;}#sk-container-id-4 input.sk-toggleable__control:checked~div.sk-toggleable__content {max-height: 200px;max-width: 100%;overflow: auto;}#sk-container-id-4 input.sk-toggleable__control:checked~label.sk-toggleable__label-arrow:before {content: \"▾\";}#sk-container-id-4 div.sk-estimator input.sk-toggleable__control:checked~label.sk-toggleable__label {background-color: #d4ebff;}#sk-container-id-4 div.sk-label input.sk-toggleable__control:checked~label.sk-toggleable__label {background-color: #d4ebff;}#sk-container-id-4 input.sk-hidden--visually {border: 0;clip: rect(1px 1px 1px 1px);clip: rect(1px, 1px, 1px, 1px);height: 1px;margin: -1px;overflow: hidden;padding: 0;position: absolute;width: 1px;}#sk-container-id-4 div.sk-estimator {font-family: monospace;background-color: #f0f8ff;border: 1px dotted black;border-radius: 0.25em;box-sizing: border-box;margin-bottom: 0.5em;}#sk-container-id-4 div.sk-estimator:hover {background-color: #d4ebff;}#sk-container-id-4 div.sk-parallel-item::after {content: \"\";width: 100%;border-bottom: 1px solid gray;flex-grow: 1;}#sk-container-id-4 div.sk-label:hover label.sk-toggleable__label {background-color: #d4ebff;}#sk-container-id-4 div.sk-serial::before {content: \"\";position: absolute;border-left: 1px solid gray;box-sizing: border-box;top: 0;bottom: 0;left: 50%;z-index: 0;}#sk-container-id-4 div.sk-serial {display: flex;flex-direction: column;align-items: center;background-color: white;padding-right: 0.2em;padding-left: 0.2em;position: relative;}#sk-container-id-4 div.sk-item {position: relative;z-index: 1;}#sk-container-id-4 div.sk-parallel {display: flex;align-items: stretch;justify-content: center;background-color: white;position: relative;}#sk-container-id-4 div.sk-item::before, #sk-container-id-4 div.sk-parallel-item::before {content: \"\";position: absolute;border-left: 1px solid gray;box-sizing: border-box;top: 0;bottom: 0;left: 50%;z-index: -1;}#sk-container-id-4 div.sk-parallel-item {display: flex;flex-direction: column;z-index: 1;position: relative;background-color: white;}#sk-container-id-4 div.sk-parallel-item:first-child::after {align-self: flex-end;width: 50%;}#sk-container-id-4 div.sk-parallel-item:last-child::after {align-self: flex-start;width: 50%;}#sk-container-id-4 div.sk-parallel-item:only-child::after {width: 0;}#sk-container-id-4 div.sk-dashed-wrapped {border: 1px dashed gray;margin: 0 0.4em 0.5em 0.4em;box-sizing: border-box;padding-bottom: 0.4em;background-color: white;}#sk-container-id-4 div.sk-label label {font-family: monospace;font-weight: bold;display: inline-block;line-height: 1.2em;}#sk-container-id-4 div.sk-label-container {text-align: center;}#sk-container-id-4 div.sk-container {/* jupyter's `normalize.less` sets `[hidden] { display: none; }` but bootstrap.min.css set `[hidden] { display: none !important; }` so we also need the `!important` here to be able to override the default hidden behavior on the sphinx rendered scikit-learn.org. See: https://github.com/scikit-learn/scikit-learn/issues/21755 */display: inline-block !important;position: relative;}#sk-container-id-4 div.sk-text-repr-fallback {display: none;}</style><div id=\"sk-container-id-4\" class=\"sk-top-container\"><div class=\"sk-text-repr-fallback\"><pre>LogisticRegression()</pre><b>In a Jupyter environment, please rerun this cell to show the HTML representation or trust the notebook. <br />On GitHub, the HTML representation is unable to render, please try loading this page with nbviewer.org.</b></div><div class=\"sk-container\" hidden><div class=\"sk-item\"><div class=\"sk-estimator sk-toggleable\"><input class=\"sk-toggleable__control sk-hidden--visually\" id=\"sk-estimator-id-4\" type=\"checkbox\" checked><label for=\"sk-estimator-id-4\" class=\"sk-toggleable__label sk-toggleable__label-arrow\">LogisticRegression</label><div class=\"sk-toggleable__content\"><pre>LogisticRegression()</pre></div></div></div></div></div>"
      ],
      "text/plain": [
       "LogisticRegression()"
      ]
     },
     "execution_count": 58,
     "metadata": {},
     "output_type": "execute_result"
    }
   ],
   "source": [
    "from sklearn import linear_model as lm\n",
    "\n",
    "# 训练 lr 模型\n",
    "lr = lm.LogisticRegression()\n",
    "lr.fit(train_X, train_Y)"
   ]
  },
  {
   "cell_type": "code",
   "execution_count": 59,
   "id": "94655f1c-74af-4f08-b222-7f86d6424ed6",
   "metadata": {},
   "outputs": [
    {
     "data": {
      "text/plain": [
       "0.0136986301369863"
      ]
     },
     "execution_count": 59,
     "metadata": {},
     "output_type": "execute_result"
    }
   ],
   "source": [
    "from sklearn.metrics import accuracy_score\n",
    "predict_Y = lr.predict(test_X)\n",
    "accuracy_score(predict_Y, test_Y)"
   ]
  },
  {
   "cell_type": "markdown",
   "id": "22c602df-16fc-4450-9233-8310c4ba03a6",
   "metadata": {},
   "source": [
    "predict test dataset, and submit"
   ]
  },
  {
   "cell_type": "code",
   "execution_count": 60,
   "id": "2c89a2ed-c2e1-419a-9664-196c27497de4",
   "metadata": {},
   "outputs": [],
   "source": [
    "text_predict_Y = lr.predict(test_processed)"
   ]
  },
  {
   "cell_type": "code",
   "execution_count": 61,
   "id": "411c3cd5-c275-4ef6-8839-05c5a4e418ff",
   "metadata": {},
   "outputs": [
    {
     "name": "stdout",
     "output_type": "stream",
     "text": [
      "1459 1459\n"
     ]
    }
   ],
   "source": [
    "print(len(text_predict_Y), len(test))"
   ]
  },
  {
   "cell_type": "markdown",
   "id": "2a18fdb5-a42e-43e7-99e5-32b176d13cea",
   "metadata": {},
   "source": [
    "准备提交数据"
   ]
  },
  {
   "cell_type": "code",
   "execution_count": 65,
   "id": "3a61d86e-54d9-4d1e-885b-1c203e636fd0",
   "metadata": {},
   "outputs": [],
   "source": [
    "!mkdir output"
   ]
  },
  {
   "cell_type": "code",
   "execution_count": 66,
   "id": "3fd810b2-e763-4cea-a97e-af4e832f3880",
   "metadata": {},
   "outputs": [],
   "source": [
    "submission_data = pd.DataFrame({'Id': test.Id, 'SalePrice': text_predict_Y})\n",
    "# print(my_submission)\n",
    "submission_data.to_csv('output/submission.csv', index=False)"
   ]
  },
  {
   "cell_type": "code",
   "execution_count": 1,
   "id": "5959b12e-f72a-407e-8888-f65c95f78bba",
   "metadata": {},
   "outputs": [
    {
     "name": "stdout",
     "output_type": "stream",
     "text": [
      "submission.csv\n",
      "  0%|                                               | 0.00/17.1k [00:00<?, ?B/s]^C\n",
      "  0%|                                               | 0.00/17.1k [00:56<?, ?B/s]\n",
      "User cancelled operation\n"
     ]
    }
   ],
   "source": [
    "!ls output\n",
    "!kaggle competitions submit -c house-prices-advanced-regression-techniques -f output/submission.csv -m \"lr\""
   ]
  },
  {
   "cell_type": "markdown",
   "id": "4dfb19b7-c463-47da-8d65-31261fbbc4ec",
   "metadata": {},
   "source": [
    "score: 0.37272"
   ]
  },
  {
   "cell_type": "code",
   "execution_count": null,
   "id": "9dc60b33-d3e9-4ab1-8b56-7b87934b7b7b",
   "metadata": {},
   "outputs": [],
   "source": []
  }
 ],
 "metadata": {
  "kernelspec": {
   "display_name": "Python 3 (ipykernel)",
   "language": "python",
   "name": "python3"
  },
  "language_info": {
   "codemirror_mode": {
    "name": "ipython",
    "version": 3
   },
   "file_extension": ".py",
   "mimetype": "text/x-python",
   "name": "python",
   "nbconvert_exporter": "python",
   "pygments_lexer": "ipython3",
   "version": "3.10.12"
  }
 },
 "nbformat": 4,
 "nbformat_minor": 5
}
