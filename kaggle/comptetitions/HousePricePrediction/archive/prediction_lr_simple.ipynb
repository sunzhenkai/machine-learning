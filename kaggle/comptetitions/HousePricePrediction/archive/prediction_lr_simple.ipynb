{
 "cells": [
  {
   "cell_type": "markdown",
   "id": "4bf38267-46c1-4b41-a233-7d60153e3a23",
   "metadata": {},
   "source": [
    "# 最简单版本\n",
    "使用 LR 模型进行预测，且无脑使用所有特征且不做转换"
   ]
  },
  {
   "cell_type": "code",
   "execution_count": 15,
   "id": "e4786a20-ca70-4326-865d-70a38b7cc5e0",
   "metadata": {},
   "outputs": [],
   "source": [
    "import pandas as pd\n",
    "import numpy as np\n",
    "import seaborn as sns\n",
    "import matplotlib.pyplot as plt\n",
    "import sklearn\n",
    "from scipy.stats import skew\n",
    "from scipy.stats import pearsonr\n",
    "\n",
    "%config InlineBackend.figure_format = 'retina' #set 'png' here when working on notebook\n",
    "%matplotlib inline\n",
    "\n",
    "train = pd.read_csv(\"./data/train.csv\")\n",
    "test = pd.read_csv(\"./data/test.csv\")"
   ]
  },
  {
   "cell_type": "code",
   "execution_count": 16,
   "id": "8521848c-a898-457a-b670-5985721bde73",
   "metadata": {},
   "outputs": [],
   "source": [
    "print(train.columns)"
   ]
  },
  {
   "cell_type": "code",
   "execution_count": 55,
   "id": "5a4ab922-7086-44bb-b06e-35711e117a4c",
   "metadata": {},
   "outputs": [],
   "source": [
    "# 数据处理\n",
    "# 1. 删除所有有 Nan 的列\n",
    "# 2. 只选取类型为 number 的列\n",
    "def process_data(df: pd.DataFrame):\n",
    "    # \baxis=1: remove column\n",
    "    df = df.dropna(axis=1, how='any')\n",
    "    df = df.select_dtypes(include='number')\n",
    "    return df\n",
    "# 训练数据, 排除 SalePrice 列\n",
    "train_data = train.loc[:, train.columns != 'SalePrice']\n",
    "train_label = train.SalePrice\n",
    "# 生成初识训练、测试数据集\n",
    "train_processed = process_data(train_data)\n",
    "test_processed = process_data(test)\n",
    "# 选取两组数据集的列交接\n",
    "columns = set(train_processed.columns)\n",
    "columns = columns.intersection(set(test_processed.columns))\n",
    "columns = list(columns)\n",
    "# 生成最终用的训练、测试数据集\n",
    "train_processed = train_processed[columns]\n",
    "test_processed = test_processed[columns]"
   ]
  },
  {
   "cell_type": "code",
   "execution_count": 56,
   "id": "d0ef5570-1984-4b29-b6ef-e80797d61e6e",
   "metadata": {},
   "outputs": [],
   "source": [
    "from sklearn.model_selection import train_test_split\n",
    "train_X, test_X, train_Y, test_Y = train_test_split(train_processed, train_label, test_size=0.3, random_state=10)\n",
    "train_X.head()"
   ]
  },
  {
   "cell_type": "code",
   "execution_count": 58,
   "id": "df9fb4f4-1763-4b0d-972d-25e1a42d8c6f",
   "metadata": {},
   "outputs": [],
   "source": [
    "from sklearn import linear_model as lm\n",
    "\n",
    "# 训练 lr 模型\n",
    "lr = lm.LogisticRegression()\n",
    "lr.fit(train_X, train_Y)"
   ]
  },
  {
   "cell_type": "code",
   "execution_count": 59,
   "id": "94655f1c-74af-4f08-b222-7f86d6424ed6",
   "metadata": {},
   "outputs": [],
   "source": [
    "from sklearn.metrics import accuracy_score\n",
    "predict_Y = lr.predict(test_X)\n",
    "accuracy_score(predict_Y, test_Y)"
   ]
  },
  {
   "cell_type": "markdown",
   "id": "22c602df-16fc-4450-9233-8310c4ba03a6",
   "metadata": {},
   "source": [
    "predict test dataset, and submit"
   ]
  },
  {
   "cell_type": "code",
   "execution_count": 60,
   "id": "2c89a2ed-c2e1-419a-9664-196c27497de4",
   "metadata": {},
   "outputs": [],
   "source": [
    "text_predict_Y = lr.predict(test_processed)"
   ]
  },
  {
   "cell_type": "code",
   "execution_count": 61,
   "id": "411c3cd5-c275-4ef6-8839-05c5a4e418ff",
   "metadata": {},
   "outputs": [],
   "source": [
    "print(len(text_predict_Y), len(test))"
   ]
  },
  {
   "cell_type": "markdown",
   "id": "2a18fdb5-a42e-43e7-99e5-32b176d13cea",
   "metadata": {},
   "source": [
    "准备提交数据"
   ]
  },
  {
   "cell_type": "code",
   "execution_count": 65,
   "id": "3a61d86e-54d9-4d1e-885b-1c203e636fd0",
   "metadata": {},
   "outputs": [],
   "source": [
    "!mkdir output"
   ]
  },
  {
   "cell_type": "code",
   "execution_count": 66,
   "id": "3fd810b2-e763-4cea-a97e-af4e832f3880",
   "metadata": {},
   "outputs": [],
   "source": [
    "submission_data = pd.DataFrame({'Id': test.Id, 'SalePrice': text_predict_Y})\n",
    "# print(my_submission)\n",
    "submission_data.to_csv('output/submission.csv', index=False)"
   ]
  },
  {
   "cell_type": "code",
   "execution_count": 1,
   "id": "5959b12e-f72a-407e-8888-f65c95f78bba",
   "metadata": {},
   "outputs": [],
   "source": [
    "!ls output\n",
    "!kaggle competitions submit -c house-prices-advanced-regression-techniques -f output/submission.csv -m \"lr\""
   ]
  },
  {
   "cell_type": "markdown",
   "id": "4dfb19b7-c463-47da-8d65-31261fbbc4ec",
   "metadata": {},
   "source": [
    "score: 0.37272"
   ]
  },
  {
   "cell_type": "code",
   "execution_count": null,
   "id": "9dc60b33-d3e9-4ab1-8b56-7b87934b7b7b",
   "metadata": {},
   "outputs": [],
   "source": []
  }
 ],
 "metadata": {
  "kernelspec": {
   "display_name": "Python 3 (ipykernel)",
   "language": "python",
   "name": "python3"
  },
  "language_info": {
   "codemirror_mode": {
    "name": "ipython",
    "version": 3
   },
   "file_extension": ".py",
   "mimetype": "text/x-python",
   "name": "python",
   "nbconvert_exporter": "python",
   "pygments_lexer": "ipython3",
   "version": "3.12.3"
  }
 },
 "nbformat": 4,
 "nbformat_minor": 5
}
