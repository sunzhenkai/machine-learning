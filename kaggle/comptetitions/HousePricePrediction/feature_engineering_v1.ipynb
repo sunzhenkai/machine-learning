{
 "cells": [
  {
   "cell_type": "markdown",
   "id": "3454d305-5fa9-4eb8-a733-475b7eb1d64e",
   "metadata": {},
   "source": [
    "# 特征工程 V1\n",
    "读取数据"
   ]
  },
  {
   "cell_type": "code",
   "execution_count": 23,
   "id": "91ba239c-051e-47a5-b31f-17bd026701fc",
   "metadata": {},
   "outputs": [
    {
     "name": "stdout",
     "output_type": "stream",
     "text": [
      "total 2.4M\n",
      "-rw-r--r-- 1 root root  14K Jun 25 03:00 data_description.txt\n",
      "-rw-r--r-- 1 root root 490K Jun 25 11:49 debug.csv\n",
      "-rw-r--r-- 1 root root 200K Dec 15  2019 house-prices-advanced-regression-techniques.zip\n",
      "-rw-r--r-- 1 root root  32K Dec 15  2019 sample_submission.csv\n",
      "-rw-r--r-- 1 root root  18K Jun 21 02:08 submission.csv\n",
      "-rw-r--r-- 1 root root 441K Dec 15  2019 test.csv\n",
      "-rw-r--r-- 1 root root 379K Jun 26 05:07 test_df_v1.csv\n",
      "-rw-r--r-- 1 root root 450K Dec 15  2019 train.csv\n",
      "-rw-r--r-- 1 root root 380K Jun 26 05:07 train_df_v1.csv\n"
     ]
    }
   ],
   "source": [
    "!ls -lh data"
   ]
  },
  {
   "cell_type": "code",
   "execution_count": 21,
   "id": "05d08145-bfac-4ef7-9048-e36ef200588b",
   "metadata": {},
   "outputs": [],
   "source": [
    "import os\n",
    "import sys\n",
    "repo_root_path = str(os.path.abspath('')).replace('/kaggle/comptetitions/HousePricePrediction', '')\n",
    "# print(os.path.abspath(''), os.path.abspath(repo_root_path))\n",
    "sys.path.append(os.path.abspath(repo_root_path))\n",
    "sys.path.append(os.path.abspath(os.path.abspath('')))\n",
    "\n",
    "from internal.feature_engineering import *\n",
    "from common import *"
   ]
  },
  {
   "cell_type": "code",
   "execution_count": 16,
   "id": "7e2dfb93-86b7-4f3f-a691-c8ed26f6e482",
   "metadata": {},
   "outputs": [],
   "source": [
    "import pandas as pd\n",
    "pd.set_option('display.max_rows', None)"
   ]
  },
  {
   "cell_type": "code",
   "execution_count": 18,
   "id": "e19633c7-d99c-4737-8ea9-73d7ccfbbea0",
   "metadata": {},
   "outputs": [
    {
     "name": "stdout",
     "output_type": "stream",
     "text": [
      "81\n"
     ]
    }
   ],
   "source": [
    "train_df = pd.read_csv('data/train.csv')\n",
    "print(len(train_df.columns))\n",
    "test_df = pd.read_csv('data/test.csv')"
   ]
  },
  {
   "cell_type": "markdown",
   "id": "4e15e05e-4abf-4b20-9f9b-5577374a65c9",
   "metadata": {},
   "source": [
    "Id,                编号\n",
    "MSSubClass         无序分类  描述房屋属性, 1 层/2 层/..., 年代, 新/旧\n",
    "MSZoning           无序分类  销售分区分类, 农业区/工业区/... 密度\n",
    "LotFrontage        连续数值  通向街道的线性距离\n",
    "LotArea            连续数值  占地面积\n",
    "Street             无序分类  通往房产的道路类型, 沙石路/铺装路\n",
    "Alley              无序分类  通往房产的小巷道路类型, 沙石路/铺装路/无\n",
    "LotShape           无序分类  地块形状, 规则/轻微不规则/...\n",
    "LandContour        无序分类  土地平整度, 水平/倾斜/坑洼/...\n",
    "Utilities          无序分类  公用设施, 水电等\n",
    "LotConfig          无序分类  地块配置, 内部/角落/临街/...\n",
    "LandSlope          无序分类  土地坡度, 缓坡/陡坡/...\n",
    "Neighborhood       无序分类  街区, 房子在该市的具体街区\n",
    "Condition1         无序分类  与各种条件的相似度\n",
    "Condition2         无序分类  与各种条件的相似度, 如果超过一个该字段有值\n",
    "BldgType           无序分类  建筑类型, 独栋/联排/...\n",
    "HouseStyle         无序分类  建筑样式, 单层/双层/...\n",
    "OverallQual        有序分类  总体质量, 对建筑材料和装修评估\n",
    "OverallCond        有序分类  总体评级, 优秀/好/差/...\n",
    "YearBuilt          离散数值  建造时间\n",
    "YearRemodAdd       离散数值  改造时间\n",
    "RoofStyle          无序分类  房顶类型\n",
    "RoofMatl           无序分类  房顶材料\n",
    "Exterior1st        无序分类  外部覆盖层材料\n",
    "Exterior2nd        无序分类  外部覆盖层材料, 如果超过一个该字段有值\n",
    "MasVnrType         无序分类  砖石贴面类型\n",
    "MasVnrArea         连续数值  砖石贴面面积\n",
    "ExterQual          有序分类  外部材料质量评估\n",
    "ExterCond          有序分类  外部材料质量当前评估\n",
    "Foundation         无序分类  地基类型\n",
    "BsmtQual           有序分类  地下室评估高度\n",
    "BsmtCond           有序分类  地下室条件评估, 优秀/...\n",
    "BsmtExposure       无序分类  地下室暴露情况\n",
    "BsmtFinType1       有序分类  地下室完工区域评级\n",
    "BsmtFinSF1         连续数值  地下室完工区域面积\n",
    "BsmtFinType2       有序分类  地下室完工区域评级, 如果超过一个完工区域改字段有值\n",
    "BsmtFinSF2         连续数值  地下室完工区域面积\n",
    "BsmtUnfSF          连续数值  地下室未完工区域面积\n",
    "TotalBsmtSF        连续数值  地下室总面积\n",
    "Heating            无序分类  取暖方式\n",
    "HeatingQC          有序分类  取暖效果评级\n",
    "CentralAir         无序分类  中央空调, 有/无\n",
    "Electrical         无序分类  电力系统\n",
    "1stFlrSF           连续数值  一楼面积\n",
    "2ndFlrSF           连续数值  二楼面积\n",
    "LowQualFinSF       连续数值  地质量完工区域面积\n",
    "GrLivArea          连续数值  地上居住面积大小\n",
    "BsmtFullBath       无序分类  地下室全浴室\n",
    "BsmtHalfBath       无序分类  地下室半浴室\n",
    "FullBath           无序分类  地上全卫\n",
    "HalfBath           无序分类  地上半卫\n",
    "BedroomAbvGr       离散数值  地上卧室数量\n",
    "KitchenAbvGr       离散数值  地上厨房数量\n",
    "KitchenQual        离散数值  厨房质量\n",
    "TotRmsAbvGrd       离散数值  地上房间总量（不包含浴室）\n",
    "Functional         无序分类  住宅功能（假设为典型，除非有扣减的必要）\n",
    "Fireplaces         离散数值  壁炉数量\n",
    "FireplaceQu        有序分类  壁炉质量\n",
    "GarageType         无序分类  车库位置, 地下/连屋/...\n",
    "GarageYrBlt        离散数值  车库年代\n",
    "GarageFinish       有序分类  车库内部装修状态, 完工/未完工/...\n",
    "GarageCars         离散数值  车库存放汽车数量\n",
    "GarageArea         连续数值  车库面积\n",
    "GarageQual         有序分类  车库质量\n",
    "GarageCond         有序分类  车库状况\n",
    "PavedDrive         有序分类  车道铺装, 砖铺/泥土/...\n",
    "WoodDeckSF         连续数值  木甲板面积\n",
    "OpenPorchSF        连续数值  开放式门廊面积\n",
    "EnclosedPorch      连续数值  封闭门廊面积\n",
    "3SsnPorch          连续数值  三季门廊面积\n",
    "ScreenPorch        连续数值  屏风门廊面积\n",
    "PoolArea           连续数值  泳池面积\n",
    "PoolQC             有序分类  泳池评级\n",
    "Fence              连续数值  围栏面积\n",
    "MiscFeature        无序分类  其他杂项特征\n",
    "MiscVal            连续数值  杂项特征价值\n",
    "MoSold             离散数值  销售月份\n",
    "YrSold             离散数值  销售年份\n",
    "SaleType           无序分类  销售类型, 新建住房/...\n",
    "SaleCondition      无序分类  销售条件, 正常销售/分配/...\n",
    "SalePrice          销售价格, Label"
   ]
  },
  {
   "cell_type": "markdown",
   "id": "bd1a7884-6f1e-43a8-9594-38951b9da5ba",
   "metadata": {},
   "source": [
    "# 特征预处理"
   ]
  },
  {
   "cell_type": "code",
   "execution_count": 19,
   "id": "92b80bc9-e4cb-4efd-af5a-029fcc156e54",
   "metadata": {},
   "outputs": [],
   "source": [
    "# 数据预处理\n",
    "# 1. 对于数值类型, 是用均值填充\n",
    "# 2. 对于非数值类型, 是用 __\n",
    "def preprocess_dataframe(df):\n",
    "    df['GarageYrBlt'] = df['GarageYrBlt'].astype(str).replace('nan', '__NaN')\n",
    "    \n",
    "    for c in df.loc[:, df.isna().any()]:\n",
    "        dc = df[c]\n",
    "        if pd.api.types.is_numeric_dtype(dc):\n",
    "            df[c] = dc.fillna(dc.mean())\n",
    "        else:\n",
    "            df[c] = dc.fillna(\"__NaN\")"
   ]
  },
  {
   "cell_type": "code",
   "execution_count": 20,
   "id": "c7bb8381-4b45-4dde-8e2a-5f0905f743a8",
   "metadata": {},
   "outputs": [],
   "source": [
    "preprocess_dataframe(train_df)\n",
    "preprocess_dataframe(test_df)\n",
    "# print(train_df.dtypes)"
   ]
  },
  {
   "cell_type": "markdown",
   "id": "dc39bfc3-2140-408d-854e-78a72dad0024",
   "metadata": {},
   "source": [
    "V1 版本特征仅使用分类和离散数值类型特征"
   ]
  },
  {
   "cell_type": "code",
   "execution_count": 20,
   "id": "69ee7510-27be-4f7a-9c18-50c0e9ac7f1f",
   "metadata": {},
   "outputs": [
    {
     "name": "stdout",
     "output_type": "stream",
     "text": [
      "60 ['Id', 'MSSubClass', 'MSZoning', 'Street', 'Alley', 'LotShape', 'LandContour', 'Utilities', 'LotConfig', 'LandSlope', 'Neighborhood', 'Condition1', 'Condition2', 'BldgType', 'HouseStyle', 'OverallQual', 'OverallCond', 'YearBuilt', 'YearRemodAdd', 'RoofStyle', 'RoofMatl', 'Exterior1st', 'Exterior2nd', 'MasVnrType', 'ExterQual', 'ExterCond', 'Foundation', 'BsmtQual', 'BsmtCond', 'BsmtExposure', 'BsmtFinType1', 'BsmtFinType2', 'Heating', 'HeatingQC', 'CentralAir', 'Electrical', 'BsmtFullBath', 'BsmtHalfBath', 'FullBath', 'HalfBath', 'BedroomAbvGr', 'KitchenAbvGr', 'KitchenQual', 'TotRmsAbvGrd', 'Functional', 'Fireplaces', 'FireplaceQu', 'GarageType', 'GarageYrBlt', 'GarageFinish', 'GarageCars', 'GarageQual', 'GarageCond', 'PavedDrive', 'PoolQC', 'MiscFeature', 'MoSold', 'YrSold', 'SaleType', 'SaleCondition']\n"
     ]
    }
   ],
   "source": [
    "feature_set_v1 = feature_set.get_features_by_types(FeatureType.IDENTITY_ORDERED, FeatureType.IDENTITY_UNORDERED, FeatureType.VALUE_DISCRETE, FeatureType.ID)\n",
    "print(feature_set_v1.feature_size(), feature_set_v1.feature_names())"
   ]
  },
  {
   "cell_type": "markdown",
   "id": "51298a2a-4b18-4985-b985-00bc18ac3f00",
   "metadata": {},
   "source": [
    "选择特征并做简单处理"
   ]
  },
  {
   "cell_type": "code",
   "execution_count": 21,
   "id": "343dc395-7aaa-4774-990f-27bb248be544",
   "metadata": {},
   "outputs": [],
   "source": [
    "train_df_v1 = train_df[feature_set_v1.feature_names() + ['SalePrice']]\n",
    "test_df_v1 = test_df[feature_set_v1.feature_names()]\n",
    "#print(train_df_v1)"
   ]
  },
  {
   "cell_type": "code",
   "execution_count": 22,
   "id": "af6faf3d-16f9-44cc-a5b8-42657a07eefe",
   "metadata": {},
   "outputs": [],
   "source": [
    "train_df_v1.to_csv('data/train_df_v1.csv', index=False)\n",
    "test_df_v1.to_csv('data/test_df_v1.csv', index=False)"
   ]
  },
  {
   "cell_type": "code",
   "execution_count": null,
   "id": "e82c4188-bf58-4c6c-832a-07abb240ad13",
   "metadata": {},
   "outputs": [],
   "source": []
  }
 ],
 "metadata": {
  "kernelspec": {
   "display_name": "Python 3 (ipykernel)",
   "language": "python",
   "name": "python3"
  },
  "language_info": {
   "codemirror_mode": {
    "name": "ipython",
    "version": 3
   },
   "file_extension": ".py",
   "mimetype": "text/x-python",
   "name": "python",
   "nbconvert_exporter": "python",
   "pygments_lexer": "ipython3",
   "version": "3.10.12"
  }
 },
 "nbformat": 4,
 "nbformat_minor": 5
}
