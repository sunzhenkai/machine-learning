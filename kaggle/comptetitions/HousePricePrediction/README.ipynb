{
 "cells": [
  {
   "cell_type": "markdown",
   "id": "9a5ac8a1-a22c-40fa-aa56-1ab4b83db48b",
   "metadata": {},
   "source": [
    "# 房价预测\n",
    "[House Prices - Advanced Regression Techniques](https://www.kaggle.com/competitions/house-prices-advanced-regression-techniques/overview)\n",
    "\n",
    "# 下载数据集"
   ]
  },
  {
   "cell_type": "code",
   "execution_count": 1,
   "id": "27b7ee70-4cb8-4f10-ba0b-f09927307804",
   "metadata": {
    "ExecuteTime": {
     "end_time": "2024-06-24T11:27:55.846622Z",
     "start_time": "2024-06-24T11:27:51.878007Z"
    }
   },
   "outputs": [
    {
     "name": "stdout",
     "output_type": "stream",
     "text": [
      "Downloading house-prices-advanced-regression-techniques.zip to data\r\n",
      "100%|█████████████████████████████████████████| 199k/199k [00:00<00:00, 357kB/s]\r\n",
      "100%|█████████████████████████████████████████| 199k/199k [00:00<00:00, 356kB/s]\r\n"
     ]
    }
   ],
   "source": [
    "!kaggle competitions download -p data -c house-prices-advanced-regression-techniques"
   ]
  },
  {
   "cell_type": "code",
   "execution_count": 2,
   "id": "05b387b8-0647-4a48-bd5b-dc7862f969ea",
   "metadata": {
    "ExecuteTime": {
     "end_time": "2024-06-24T11:27:59.309813Z",
     "start_time": "2024-06-24T11:27:59.188497Z"
    }
   },
   "outputs": [
    {
     "name": "stdout",
     "output_type": "stream",
     "text": [
      "Archive:  data/house-prices-advanced-regression-techniques.zip\r\n",
      "  inflating: data/data_description.txt  \r\n",
      "  inflating: data/sample_submission.csv  \r\n",
      "  inflating: data/test.csv           \r\n",
      "  inflating: data/train.csv          \r\n"
     ]
    }
   ],
   "source": [
    "!unzip -o data/*.zip -d data"
   ]
  },
  {
   "cell_type": "markdown",
   "id": "efbacf91-9c02-46f9-b3ea-a9d0a6419d1d",
   "metadata": {},
   "source": [
    "# 问题分析\n",
    "根据已知的房子信息及价格，预估给定房子的价格。该问题属于机器学习中的，监督学习，回归问题，需要拟合出一个数值，即房价。"
   ]
  },
  {
   "cell_type": "markdown",
   "id": "674b6bab-7ee3-46f0-a0b4-fe1e1f775910",
   "metadata": {},
   "source": [
    "# 解题步骤\n",
    "- 准备\n",
    "    - 安装依赖、下载数据\n",
    "- 特征工程\n",
    "    - 整理 V1 版本特征\n",
    "- 模型预估\n",
    "    - 线性回归（LR）\n",
    "    - 决策树\n",
    "    - 随机森林"
   ]
  },
  {
   "cell_type": "code",
   "execution_count": 2,
   "id": "b470053d-b5e1-4dc4-a495-1da744571221",
   "metadata": {},
   "outputs": [
    {
     "data": {
      "text/plain": [
       "'/data/jupyter/notebooks/machine-learning/kaggle/comptetitions/HousePricePrediction'"
      ]
     },
     "execution_count": 2,
     "metadata": {},
     "output_type": "execute_result"
    }
   ],
   "source": [
    "import os\n",
    "os.path.abspath('')"
   ]
  },
  {
   "cell_type": "code",
   "execution_count": null,
   "id": "8523cd64-b1fe-447f-9f97-41d6ca687d7b",
   "metadata": {},
   "outputs": [],
   "source": []
  }
 ],
 "metadata": {
  "kernelspec": {
   "display_name": "Python 3 (ipykernel)",
   "language": "python",
   "name": "python3"
  },
  "language_info": {
   "codemirror_mode": {
    "name": "ipython",
    "version": 3
   },
   "file_extension": ".py",
   "mimetype": "text/x-python",
   "name": "python",
   "nbconvert_exporter": "python",
   "pygments_lexer": "ipython3",
   "version": "3.10.12"
  }
 },
 "nbformat": 4,
 "nbformat_minor": 5
}
