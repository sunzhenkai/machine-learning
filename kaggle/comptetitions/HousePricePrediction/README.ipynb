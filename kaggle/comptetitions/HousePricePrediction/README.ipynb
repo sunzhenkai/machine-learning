{
 "cells": [
  {
   "cell_type": "markdown",
   "id": "9a5ac8a1-a22c-40fa-aa56-1ab4b83db48b",
   "metadata": {},
   "source": [
    "# 房价预测\n",
    "[House Prices - Advanced Regression Techniques](https://www.kaggle.com/competitions/house-prices-advanced-regression-techniques/overview)\n",
    "\n",
    "# 下载数据集"
   ]
  },
  {
   "cell_type": "code",
   "execution_count": 1,
   "id": "27b7ee70-4cb8-4f10-ba0b-f09927307804",
   "metadata": {
    "ExecuteTime": {
     "end_time": "2024-07-01T15:52:40.174112Z",
     "start_time": "2024-07-01T15:52:32.734517Z"
    }
   },
   "outputs": [
    {
     "name": "stdout",
     "output_type": "stream",
     "text": [
      "/home/wii/code/machine-learning/kaggle/comptetitions/HousePricePrediction\n",
      "Downloading house-prices-advanced-regression-techniques.zip to data/raw\n",
      "100%|█████████████████████████████████████████| 199k/199k [00:00<00:00, 396kB/s]\n",
      "100%|█████████████████████████████████████████| 199k/199k [00:00<00:00, 396kB/s]\n"
     ]
    }
   ],
   "source": [
    "!pwd\n",
    "!mkdir -p data/raw\n",
    "!kaggle competitions download -p data/raw -c house-prices-advanced-regression-techniques"
   ]
  },
  {
   "cell_type": "code",
   "execution_count": 2,
   "id": "05b387b8-0647-4a48-bd5b-dc7862f969ea",
   "metadata": {
    "ExecuteTime": {
     "end_time": "2024-07-01T15:53:00.415547Z",
     "start_time": "2024-07-01T15:53:00.073330Z"
    }
   },
   "outputs": [
    {
     "name": "stdout",
     "output_type": "stream",
     "text": [
      "Archive:  data/raw/house-prices-advanced-regression-techniques.zip\n",
      "  inflating: data/raw/data_description.txt  \n",
      "  inflating: data/raw/sample_submission.csv  \n",
      "  inflating: data/raw/test.csv       \n",
      "  inflating: data/raw/train.csv      \n",
      "data_description.txt\t\t\t\t test.csv\n",
      "house-prices-advanced-regression-techniques.zip  train.csv\n",
      "sample_submission.csv\n"
     ]
    }
   ],
   "source": [
    "!unzip -o data/raw/*.zip -d data/raw\n",
    "!ls data/raw"
   ]
  },
  {
   "cell_type": "markdown",
   "id": "efbacf91-9c02-46f9-b3ea-a9d0a6419d1d",
   "metadata": {},
   "source": [
    "# 问题分析\n",
    "根据已知的房子信息及价格，预估给定房子的价格。该问题属于机器学习中的，监督学习，回归问题，需要拟合出一个数值，即房价。"
   ]
  },
  {
   "cell_type": "markdown",
   "id": "674b6bab-7ee3-46f0-a0b4-fe1e1f775910",
   "metadata": {},
   "source": [
    "# 解题步骤\n",
    "- 准备\n",
    "    - 安装依赖、下载数据\n",
    "- 特征工程\n",
    "    - 整理 V1 版本特征\n",
    "- 模型预估\n",
    "    - 线性回归（LR）\n",
    "    - 决策树\n",
    "    - 随机森林"
   ]
  },
  {
   "cell_type": "markdown",
   "id": "260c1683-9b11-4b99-a99f-e2d338a3bf02",
   "metadata": {},
   "source": [
    "# TODO\n",
    "- [x] 特征工程 V1\n",
    "- [ ] 完成 LR 预估"
   ]
  },
  {
   "cell_type": "raw",
   "id": "0c79f552-4834-4c5f-8cb5-086c9d55a004",
   "metadata": {},
   "source": []
  }
 ],
 "metadata": {
  "kernelspec": {
   "display_name": "Python 3 (ipykernel)",
   "language": "python",
   "name": "python3"
  },
  "language_info": {
   "codemirror_mode": {
    "name": "ipython",
    "version": 3
   },
   "file_extension": ".py",
   "mimetype": "text/x-python",
   "name": "python",
   "nbconvert_exporter": "python",
   "pygments_lexer": "ipython3",
   "version": "3.12.4"
  }
 },
 "nbformat": 4,
 "nbformat_minor": 5
}
