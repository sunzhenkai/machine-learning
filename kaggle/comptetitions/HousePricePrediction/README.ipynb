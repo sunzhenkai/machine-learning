{
 "cells": [
  {
   "cell_type": "markdown",
   "id": "9a5ac8a1-a22c-40fa-aa56-1ab4b83db48b",
   "metadata": {},
   "source": [
    "# 房价预测\n",
    "[House Prices - Advanced Regression Techniques](https://www.kaggle.com/competitions/house-prices-advanced-regression-techniques/overview)\n",
    "\n",
    "# 下载数据集"
   ]
  },
  {
   "cell_type": "code",
   "id": "27b7ee70-4cb8-4f10-ba0b-f09927307804",
   "metadata": {
    "ExecuteTime": {
     "end_time": "2024-06-24T11:27:55.846622Z",
     "start_time": "2024-06-24T11:27:51.878007Z"
    }
   },
   "source": [
    "!kaggle competitions download -p data -c house-prices-advanced-regression-techniques"
   ],
   "outputs": [
    {
     "name": "stdout",
     "output_type": "stream",
     "text": [
      "Downloading house-prices-advanced-regression-techniques.zip to data\r\n",
      "100%|█████████████████████████████████████████| 199k/199k [00:00<00:00, 357kB/s]\r\n",
      "100%|█████████████████████████████████████████| 199k/199k [00:00<00:00, 356kB/s]\r\n"
     ]
    }
   ],
   "execution_count": 1
  },
  {
   "cell_type": "code",
   "id": "05b387b8-0647-4a48-bd5b-dc7862f969ea",
   "metadata": {
    "ExecuteTime": {
     "end_time": "2024-06-24T11:27:59.309813Z",
     "start_time": "2024-06-24T11:27:59.188497Z"
    }
   },
   "source": [
    "!unzip -o data/*.zip -d data"
   ],
   "outputs": [
    {
     "name": "stdout",
     "output_type": "stream",
     "text": [
      "Archive:  data/house-prices-advanced-regression-techniques.zip\r\n",
      "  inflating: data/data_description.txt  \r\n",
      "  inflating: data/sample_submission.csv  \r\n",
      "  inflating: data/test.csv           \r\n",
      "  inflating: data/train.csv          \r\n"
     ]
    }
   ],
   "execution_count": 2
  },
  {
   "cell_type": "code",
   "execution_count": null,
   "id": "1902025f-1ed1-43fa-9d38-a9b63017349a",
   "metadata": {},
   "outputs": [],
   "source": []
  }
 ],
 "metadata": {
  "kernelspec": {
   "display_name": "Python 3 (ipykernel)",
   "language": "python",
   "name": "python3"
  },
  "language_info": {
   "codemirror_mode": {
    "name": "ipython",
    "version": 3
   },
   "file_extension": ".py",
   "mimetype": "text/x-python",
   "name": "python",
   "nbconvert_exporter": "python",
   "pygments_lexer": "ipython3",
   "version": "3.10.12"
  }
 },
 "nbformat": 4,
 "nbformat_minor": 5
}
