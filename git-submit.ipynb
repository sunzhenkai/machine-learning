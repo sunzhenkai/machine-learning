{
 "cells": [
  {
   "cell_type": "code",
   "execution_count": 5,
   "id": "fee1be09",
   "metadata": {},
   "outputs": [
    {
     "name": "stdout",
     "output_type": "stream",
     "text": [
      "On branch master\n",
      "Your branch is up to date with 'origin/master'.\n",
      "\n",
      "Untracked files:\n",
      "  (use \"git add <file>...\" to include in what will be committed)\n",
      "\t\u001B[31m.gitignore\u001B[m\n",
      "\t\u001B[31mgit-submit.ipynb\u001B[m\n",
      "\t\u001B[31mstart.sh\u001B[m\n",
      "\t\u001B[31mtianchi/\u001B[m\n",
      "\n",
      "nothing added to commit but untracked files present (use \"git add\" to track)\n",
      "The following paths are ignored by one of your .gitignore files:\n",
      "nohup.out\n",
      "Use -f if you really want to add them.\n",
      "[master 6ecf10d] update\n",
      " 4 files changed, 711 insertions(+)\n",
      " create mode 100644 git-submit.ipynb\n",
      " create mode 100644 start.sh\n",
      " create mode 100644 tianchi/learn ml/download-dataset.ipynb\n",
      " create mode 100644 tianchi/learn ml/learn-ml.ipynb\n",
      "Enumerating objects: 9, done.\n",
      "Counting objects: 100% (9/9), done.\n",
      "Delta compression using up to 42 threads\n",
      "Compressing objects: 100% (6/6), done.\n",
      "Writing objects: 100% (8/8), 317.08 KiB | 1.06 MiB/s, done.\n",
      "Total 8 (delta 0), reused 0 (delta 0)\n",
      "To github.com:sunzhenkai/ml.git\n",
      "   1f0eb21..6ecf10d  master -> master\n"
     ]
    }
   ],
   "source": [
    "!git status\n",
    "!git add *\n",
    "!git commit -m 'auto update'\n",
    "!git push"
   ]
  },
  {
   "cell_type": "code",
   "id": "e061de9d",
   "metadata": {
    "ExecuteTime": {
     "end_time": "2024-05-28T02:31:25.707090Z",
     "start_time": "2024-05-28T02:31:25.582308Z"
    }
   },
   "source": "!git status",
   "outputs": [
    {
     "name": "stdout",
     "output_type": "stream",
     "text": [
      "fatal: not a git repository (or any of the parent directories): .git\r\n"
     ]
    }
   ],
   "execution_count": 1
  },
  {
   "cell_type": "code",
   "execution_count": 7,
   "id": "0f8cb720",
   "metadata": {},
   "outputs": [],
   "source": [
    "!git diff .gitignore"
   ]
  },
  {
   "cell_type": "code",
   "execution_count": null,
   "id": "137f035b",
   "metadata": {},
   "outputs": [],
   "source": []
  }
 ],
 "metadata": {
  "kernelspec": {
   "display_name": "Python 3 (ipykernel)",
   "language": "python",
   "name": "python3"
  },
  "language_info": {
   "codemirror_mode": {
    "name": "ipython",
    "version": 3
   },
   "file_extension": ".py",
   "mimetype": "text/x-python",
   "name": "python",
   "nbconvert_exporter": "python",
   "pygments_lexer": "ipython3",
   "version": "3.8.10"
  }
 },
 "nbformat": 4,
 "nbformat_minor": 5
}
