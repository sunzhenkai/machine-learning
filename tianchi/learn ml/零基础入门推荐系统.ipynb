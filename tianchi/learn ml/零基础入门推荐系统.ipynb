{
 "cells": [
  {
   "cell_type": "markdown",
   "id": "3deb02de-1a20-49b9-9377-26eeedcf5d2c",
   "metadata": {},
   "source": [
    "# 零基础入门推荐系统\n",
    "[链接](https://tianchi.aliyun.com/competition/entrance/531842)。"
   ]
  },
  {
   "cell_type": "code",
   "execution_count": null,
   "id": "5e3565e7-18af-49a8-ad21-37969277ba6d",
   "metadata": {},
   "outputs": [],
   "source": []
  }
 ],
 "metadata": {
  "kernelspec": {
   "display_name": "Python 3 (ipykernel)",
   "language": "python",
   "name": "python3"
  },
  "language_info": {
   "codemirror_mode": {
    "name": "ipython",
    "version": 3
   },
   "file_extension": ".py",
   "mimetype": "text/x-python",
   "name": "python",
   "nbconvert_exporter": "python",
   "pygments_lexer": "ipython3",
   "version": "3.10.12"
  }
 },
 "nbformat": 4,
 "nbformat_minor": 5
}
