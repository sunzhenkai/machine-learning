{
 "cells": [
  {
   "cell_type": "code",
   "execution_count": 12,
   "id": "52663a9a",
   "metadata": {},
   "source": [
    "# 安装依赖库\n",
    "!pip3 install numpy seaborn matplotlib sklearn pandas"
   ],
   "outputs": []
  },
  {
   "cell_type": "markdown",
   "id": "8302ef71",
   "metadata": {},
   "source": [
    "# 鸢尾花实战"
   ]
  },
  {
   "cell_type": "code",
   "execution_count": 4,
   "id": "34ea843c",
   "metadata": {},
   "source": [
    "# 下载数据集\n",
    "!wget -P dataset https://wii-share.oss-cn-beijing.aliyuncs.com/dataset/Iris.csv "
   ],
   "outputs": []
  },
  {
   "cell_type": "code",
   "execution_count": 13,
   "id": "69df4106",
   "metadata": {},
   "source": [
    "# 导入基础库\n",
    "import numpy as np\n",
    "import pandas as pd\n",
    "import matplotlib.pyplot as plt\n",
    "import seaborn as sns\n",
    "from sklearn.linear_model import LogisticRegression"
   ],
   "outputs": []
  },
  {
   "cell_type": "code",
   "execution_count": 108,
   "id": "cd831291",
   "metadata": {},
   "source": [
    "# 读取数据集\n",
    "df = pd.read_csv('dataset/Iris.csv')\n",
    "df = df.drop('Id', axis=1)"
   ],
   "outputs": []
  },
  {
   "cell_type": "code",
   "execution_count": 109,
   "id": "02b9bcc3",
   "metadata": {},
   "source": [
    "# 展示数据集信息\n",
    "print(df.info())\n",
    "print(df.head())\n",
    "print(df['Species'].unique())"
   ],
   "outputs": []
  },
  {
   "cell_type": "code",
   "execution_count": 110,
   "id": "f34c2813",
   "metadata": {},
   "source": [
    "def trans(row):\n",
    "    if row['Species'] == 'Iris-setosa':\n",
    "        return np.int32(1)\n",
    "    return np.int32(0)\n",
    "\n",
    "df['Label'] = pd.Series(data=df.apply(trans, axis=1), dtype='int')\n",
    "print(df['Label'].unique())"
   ],
   "outputs": []
  },
  {
   "cell_type": "code",
   "execution_count": 111,
   "id": "127e230c",
   "metadata": {},
   "source": [
    "# 可视化描述\n",
    "sns.pairplot(data=df, diag_kind='hist', hue='Label')"
   ],
   "outputs": []
  },
  {
   "cell_type": "code",
   "execution_count": 52,
   "id": "9ebab1d1",
   "metadata": {},
   "source": [
    "columns = ['Id', 'SepalLengthCm', 'SepalWidthCm', 'PetalLengthCm', 'PetalWidthCm', 'Label']\n",
    "features = df[columns].to_numpy()\n",
    "np.random.shuffle(dfn)"
   ],
   "outputs": []
  },
  {
   "cell_type": "code",
   "execution_count": 63,
   "id": "54789248",
   "metadata": {},
   "source": [
    "print(dfn[:5])\n",
    "print(dfn[:3, 0])"
   ],
   "outputs": []
  },
  {
   "cell_type": "code",
   "execution_count": 112,
   "id": "837eb4da",
   "metadata": {},
   "source": [
    "# 区分 feature & label\n",
    "features = dfn[:, 0:5]\n",
    "labels = dfn[:, 5]\n",
    "\n",
    "# 区分训练集和测试集\n",
    "from sklearn.model_selection import train_test_split\n",
    "train_feature, test_feature, train_label, test_label = train_test_split(features, labels, test_size=0.33)\n",
    "\n",
    "# mid = int(len(dfn) * 2 / 3)\n",
    "# train_feature = features[:mid]\n",
    "# train_label = labels[:mid]\n",
    "# test_feature = features[mid:]\n",
    "# test_label = labels[mid:]"
   ],
   "outputs": []
  },
  {
   "cell_type": "code",
   "execution_count": 113,
   "id": "0fb5a63f",
   "metadata": {},
   "source": [
    "print(features[:3])\n",
    "print(label[:3])\n",
    "print(train_feature[:3])\n",
    "print(train_label[:3])\n",
    "print(test_feature[:3])\n",
    "print(test_label[:3])"
   ],
   "outputs": []
  },
  {
   "cell_type": "code",
   "execution_count": 114,
   "id": "090ad1e2",
   "metadata": {},
   "source": [
    "# 模型训练\n",
    "lr_clf = LogisticRegression()\n",
    "lr_clf.fit(train_feature, train_label)"
   ],
   "outputs": []
  },
  {
   "cell_type": "code",
   "execution_count": 115,
   "id": "ac95a2b8",
   "metadata": {},
   "source": [
    "# 查看模型权重\n",
    "print(lr_clf.coef_)\n",
    "\n",
    "# 查看 w0\n",
    "print(lr_clf.intercept_)\n",
    "\n",
    "print(columns)"
   ],
   "outputs": []
  },
  {
   "cell_type": "code",
   "execution_count": 116,
   "id": "f585053a",
   "metadata": {
    "scrolled": true
   },
   "source": [
    "# 可视化采样点, 展示 SepalLengthCm 和 SepalWidthCm、PetalLengthCm、PetalWidthCm\n",
    "start = 2\n",
    "end = 5\n",
    "fg, axs = plt.subplots(end - start, end - start, figsize=(25, 25))\n",
    "for i in range(start, end):\n",
    "    for j in range(start, end):\n",
    "        ii, ij = i - start, j - start\n",
    "        axs[ii, ij].scatter(features[:, 1], features[:, i], c=labels, s=25, cmap='viridis')\n",
    "        axs[ii, ij].set_title(columns[i] + ' - ' + columns[j])"
   ],
   "outputs": []
  },
  {
   "cell_type": "code",
   "execution_count": 117,
   "id": "3e2fae7f",
   "metadata": {},
   "source": [
    "# 预测概率 ()\n",
    "proba = lr_clf.predict_proba(test_feature)\n",
    "print(proba[:3])\n",
    "# 预测结果\n",
    "predict = lr_clf.predict(test_feature)\n",
    "print(predict)"
   ],
   "outputs": []
  },
  {
   "cell_type": "code",
   "execution_count": 119,
   "id": "2c417250",
   "metadata": {},
   "source": [
    "# 打印准确率\n",
    "from sklearn import metrics\n",
    "print(metrics.accuracy_score(predict, test_label))"
   ],
   "outputs": []
  },
  {
   "cell_type": "code",
   "execution_count": 121,
   "id": "d07c18af",
   "metadata": {},
   "source": [
    "# 打印混淆矩阵\n",
    "confusion_matrix_result = metrics.confusion_matrix(predict, test_label)\n",
    "plt.figure(figsize=(8, 6))\n",
    "sns.heatmap(confusion_matrix_result, annot=True)\n",
    "plt.xlabel('Predicted labels')\n",
    "plt.ylabel('True labels')\n",
    "plt.show()"
   ],
   "outputs": []
  },
  {
   "cell_type": "code",
   "execution_count": null,
   "id": "c83ca389",
   "metadata": {},
   "source": [],
   "outputs": []
  }
 ],
 "metadata": {
  "kernelspec": {
   "display_name": "Python 3 (ipykernel)",
   "language": "python",
   "name": "python3"
  },
  "language_info": {
   "codemirror_mode": {
    "name": "ipython",
    "version": 3
   },
   "file_extension": ".py",
   "mimetype": "text/x-python",
   "name": "python",
   "nbconvert_exporter": "python",
   "pygments_lexer": "ipython3",
   "version": "3.10.12"
  }
 },
 "nbformat": 4,
 "nbformat_minor": 5
}
