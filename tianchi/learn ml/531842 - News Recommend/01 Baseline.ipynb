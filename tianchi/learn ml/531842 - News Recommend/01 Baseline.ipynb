{
 "cells": [
  {
   "cell_type": "code",
   "execution_count": 1,
   "id": "a67b45d0-8205-455a-b35e-4f8e4c4edb78",
   "metadata": {},
   "outputs": [],
   "source": [
    "import os\n",
    "import sys\n",
    "\n",
    "def get_project_path():\n",
    "    import os\n",
    "    parts = os.getcwd().rsplit(\"machine-learning\", 1)\n",
    "    return parts[0]\n",
    "sys.path.append(get_project_path())\n",
    "\n",
    "from data import DataManager"
   ]
  },
  {
   "cell_type": "code",
   "execution_count": 2,
   "id": "039e02a0-c4d1-4b8d-b71a-6f3222ce07ef",
   "metadata": {},
   "outputs": [],
   "source": [
    "dm = DataManager(\"~/dataset\")"
   ]
  },
  {
   "cell_type": "code",
   "execution_count": null,
   "id": "0aae1859-a394-4a59-874e-c4e9ebf298ab",
   "metadata": {},
   "outputs": [],
   "source": []
  }
 ],
 "metadata": {
  "kernelspec": {
   "display_name": "Python 3 (ipykernel)",
   "language": "python",
   "name": "python3"
  },
  "language_info": {
   "codemirror_mode": {
    "name": "ipython",
    "version": 3
   },
   "file_extension": ".py",
   "mimetype": "text/x-python",
   "name": "python",
   "nbconvert_exporter": "python",
   "pygments_lexer": "ipython3",
   "version": "3.13.5"
  }
 },
 "nbformat": 4,
 "nbformat_minor": 5
}
