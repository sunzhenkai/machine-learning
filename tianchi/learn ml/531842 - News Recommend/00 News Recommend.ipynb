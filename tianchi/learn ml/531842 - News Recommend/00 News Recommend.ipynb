{
 "cells": [
  {
   "cell_type": "markdown",
   "id": "3deb02de-1a20-49b9-9377-26eeedcf5d2c",
   "metadata": {},
   "source": [
    "# 零基础入门推荐系统\n",
    "[链接](https://tianchi.aliyun.com/competition/entrance/531842)。"
   ]
  },
  {
   "cell_type": "markdown",
   "id": "d8c8c4b9-f323-4e71-952d-61fd010c11e4",
   "metadata": {},
   "source": [
    "# 初始化 & 读取数据集"
   ]
  },
  {
   "cell_type": "code",
   "execution_count": 1,
   "id": "c2dd6749-257c-4462-ade3-7d8b10c5ee7a",
   "metadata": {},
   "outputs": [
    {
     "name": "stdout",
     "output_type": "stream",
     "text": [
      "4.0.0\n",
      "/home/jovyan/jars/hadoop-aliyun-3.4.1.jar,/home/jovyan/jars/hadoop-aws-3.4.1.jar,/home/jovyan/jars/bundle-2.32.24.jar,/home/jovyan/jars/aliyun-sdk-oss-3.18.2.jar,/home/jovyan/jars/paimon-oss-1.2.0.jar,/home/jovyan/jars/commons-configuration2-2.12.0.jar,/home/jovyan/jars/jdom2-2.0.6.1.jar\n",
      "Spark Version:  4.0.0\n"
     ]
    }
   ],
   "source": [
    "import os\n",
    "import pyspark\n",
    "from pyspark.sql import SparkSession\n",
    "from pyspark.sql.functions import col, from_json, greatest, lit, abs\n",
    "from configparser import ConfigParser\n",
    "from pyspark.sql.functions import sum as spark_sum\n",
    "\n",
    "# 设置 JDK\n",
    "os.environ[\"JAVA_HOME\"] = \"/lib/jvm/java-17-openjdk-amd64\"\n",
    "\n",
    "print(pyspark.__version__)\n",
    "\n",
    "# 添加 jar 包\n",
    "jars_dir = \"/home/jovyan/jars\"\n",
    "jars_list = [\n",
    "    os.path.join(jars_dir, f) for f in os.listdir(jars_dir) if f.endswith(\".jar\")\n",
    "]\n",
    "jars_str = \",\".join(jars_list)\n",
    "print(jars_str)\n",
    "\n",
    "# 读取 MinIO 配置\n",
    "config_path = os.path.expanduser(\"~/.minioconfig\")\n",
    "parser = ConfigParser()\n",
    "parser.read(config_path)\n",
    "endpoint = parser.get(\"Credentials\", \"endpoint\")\n",
    "access_key_id = parser.get(\"Credentials\", \"accessKeyID\")\n",
    "access_key_secret = parser.get(\"Credentials\", \"accessKeySecret\")\n",
    "\n",
    "# 创建本地 SparkSession（local 模式）\n",
    "spark = (\n",
    "    SparkSession.builder.appName(\"LocalPySparkExample\")\n",
    "    .config(\"spark.jars\", jars_str)\n",
    "    .master(\"local[*]\")\n",
    "    .config(\"spark.driver.memory\", \"10g\")\n",
    "    .config(\"spark.driver.maxResultSize\", \"4g\")\n",
    "    .config(\"spark.sql.shuffle.partitions\", \"100\")\n",
    "    .config(\"spark.default.parallelism\", \"100\")\n",
    "    .config(\"spark.executor.extraJavaOptions\", \"-XX:+UseG1GC -XX:InitiatingHeapOccupancyPercent=35\")\n",
    "    # S3A 配置\n",
    "    .config(\"spark.hadoop.fs.s3a.endpoint\", endpoint)                   # MinIO 服务地址\n",
    "    .config(\"spark.hadoop.fs.s3a.access.key\", access_key_id)            # MinIO 用户名\n",
    "    .config(\"spark.hadoop.fs.s3a.secret.key\", access_key_secret)        # MinIO 密码\n",
    "    .config(\"spark.hadoop.fs.s3a.path.style.access\", \"true\")            # 必须设为 true，MinIO 用路径模式\n",
    "    .config(\"spark.hadoop.fs.s3a.impl\", \"org.apache.hadoop.fs.s3a.S3AFileSystem\")\n",
    "    .getOrCreate()\n",
    ")\n",
    "\n",
    "print('Spark Version: ', spark.version)"
   ]
  },
  {
   "cell_type": "code",
   "execution_count": 16,
   "id": "6eb0b22b-169d-472e-96dd-c420c27675d2",
   "metadata": {},
   "outputs": [
    {
     "name": "stdout",
     "output_type": "stream",
     "text": [
      "\u001b]11;?\u001b\\\u001b[6n\u001b[m\u001b[32m[2025-08-18 10:06:11 UTC]\u001b[0m\u001b[33m 9.9MiB\u001b[0m \u001b[34mSTANDARD\u001b[0m\u001b[1m articles.csv\u001b[22m\u001b[m\n",
      "\u001b[m\u001b[32m[2025-08-18 10:06:23 UTC]\u001b[0m\u001b[33m 973MiB\u001b[0m \u001b[34mSTANDARD\u001b[0m\u001b[1m articles_emb.csv\u001b[22m\u001b[m\n",
      "\u001b[m\u001b[32m[2025-08-18 10:06:12 UTC]\u001b[0m\u001b[33m  20MiB\u001b[0m \u001b[34mSTANDARD\u001b[0m\u001b[1m testA_click_log.csv\u001b[22m\u001b[m\n",
      "\u001b[m\u001b[32m[2025-08-18 10:06:12 UTC]\u001b[0m\u001b[33m  44MiB\u001b[0m \u001b[34mSTANDARD\u001b[0m\u001b[1m train_click_log.csv\u001b[22m\u001b[m\n",
      "...ck_log.csv: 1.02 GiB / 1.02 GiB ┃▓▓▓▓▓▓▓▓▓▓▓▓▓▓▓▓▓▓▓▓▓▓▓▓▓▓▓┃ 269.72 MiB/s 3s\u001b[0;22m\u001b[0m\u001b[m\u001b[32;1m"
     ]
    }
   ],
   "source": [
    "!/home/linuxbrew/.linuxbrew/bin/mc ls dxp/dataset/tianchi/tianchi-news-rec/\n",
    "# 同步数据到本地\n",
    "!/home/linuxbrew/.linuxbrew/bin/mc cp -r dxp/dataset/tianchi/tianchi-news-rec ~/dataset/"
   ]
  },
  {
   "cell_type": "code",
   "execution_count": 1,
   "id": "372e911f-2613-4441-bf55-fa322fac8c81",
   "metadata": {
    "scrolled": true
   },
   "outputs": [],
   "source": [
    "# article_csv_path = 's3a://dataset/tianchi/tianchi-news-rec/articles.csv'\n",
    "# article_df = spark.read.csv(article_csv_path, header=True)\n",
    "# article_df.printSchema()\n",
    "\n",
    "# article_emb_csv_path = 's3a://dataset/tianchi/tianchi-news-rec/articles_emb.csv'\n",
    "# article_emb_df = spark.read.csv(article_emb_csv_path, header=True)\n",
    "# article_emb_df.printSchema()\n",
    "\n",
    "# train_click_csv_path = 's3a://dataset/tianchi/tianchi-news-rec/train_click_log.csv'\n",
    "# train_click_df = spark.read.csv(train_click_csv_path, header=True)\n",
    "# train_click_df.printSchema()\n",
    "\n",
    "# testA_click_csv_path = 's3a://dataset/tianchi/tianchi-news-rec/testA_click_log.csv'\n",
    "# testA_click_df = spark.read.csv(testA_click_csv_path, header=True)\n",
    "# testA_click_df.printSchema()\n",
    "\n",
    "# print(article_df.count(), article_emb_df.count())\n",
    "# article_emb_df.show()\n",
    "# article_df.show()"
   ]
  },
  {
   "cell_type": "markdown",
   "id": "aeed4794-5151-4a89-a93f-760921c81648",
   "metadata": {},
   "source": [
    "# 数据走读"
   ]
  },
  {
   "cell_type": "code",
   "execution_count": null,
   "id": "99d263a2-48a2-4f37-a593-4ca0a02b90d7",
   "metadata": {
    "scrolled": true
   },
   "outputs": [],
   "source": []
  },
  {
   "cell_type": "code",
   "execution_count": null,
   "id": "70cca747-cd9a-4715-81b1-f26c8f445a2c",
   "metadata": {},
   "outputs": [],
   "source": []
  },
  {
   "cell_type": "code",
   "execution_count": null,
   "id": "694d7ba3-7301-4155-a485-d6bbbc76bfff",
   "metadata": {},
   "outputs": [],
   "source": []
  }
 ],
 "metadata": {
  "kernelspec": {
   "display_name": "Python 3 (ipykernel)",
   "language": "python",
   "name": "python3"
  },
  "language_info": {
   "codemirror_mode": {
    "name": "ipython",
    "version": 3
   },
   "file_extension": ".py",
   "mimetype": "text/x-python",
   "name": "python",
   "nbconvert_exporter": "python",
   "pygments_lexer": "ipython3",
   "version": "3.13.5"
  }
 },
 "nbformat": 4,
 "nbformat_minor": 5
}
