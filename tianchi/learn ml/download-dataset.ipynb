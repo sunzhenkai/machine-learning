{
 "cells": [
  {
   "cell_type": "code",
   "execution_count": 4,
   "id": "105df5e8",
   "metadata": {},
   "outputs": [
    {
     "name": "stdout",
     "output_type": "stream",
     "text": [
      "dataset  download-dataset.ipynb  learn-ml.ipynb\n",
      "ok\n"
     ]
    }
   ],
   "source": [
    "![ ! -e dataset ] && mkdir dataset && echo \"ok\""
   ]
  },
  {
   "cell_type": "code",
   "execution_count": 5,
   "id": "8fe447e1",
   "metadata": {},
   "outputs": [
    {
     "name": "stdout",
     "output_type": "stream",
     "text": [
      "--2022-06-05 05:46:29--  http://tianchi-competition.oss-cn-hangzhou.aliyuncs.com/531842/articles.csv\n",
      "Resolving tianchi-competition.oss-cn-hangzhou.aliyuncs.com (tianchi-competition.oss-cn-hangzhou.aliyuncs.com)... 124.160.145.52\n",
      "Connecting to tianchi-competition.oss-cn-hangzhou.aliyuncs.com (tianchi-competition.oss-cn-hangzhou.aliyuncs.com)|124.160.145.52|:80... connected.\n",
      "HTTP request sent, awaiting response... 200 OK\n",
      "Length: 10365815 (9.9M) [text/csv]\n",
      "Saving to: ‘dataset/articles.csv’\n",
      "\n",
      "articles.csv        100%[===================>]   9.88M  3.08MB/s    in 3.2s    \n",
      "\n",
      "2022-06-05 05:46:47 (3.08 MB/s) - ‘dataset/articles.csv’ saved [10365815/10365815]\n",
      "\n",
      "--2022-06-05 05:46:47--  http://tianchi-competition.oss-cn-hangzhou.aliyuncs.com/531842/articles_emb.csv\n",
      "Resolving tianchi-competition.oss-cn-hangzhou.aliyuncs.com (tianchi-competition.oss-cn-hangzhou.aliyuncs.com)... 124.160.145.52\n",
      "Connecting to tianchi-competition.oss-cn-hangzhou.aliyuncs.com (tianchi-competition.oss-cn-hangzhou.aliyuncs.com)|124.160.145.52|:80... connected.\n",
      "HTTP request sent, awaiting response... 200 OK\n",
      "Length: 1020419923 (973M) [text/csv]\n",
      "Saving to: ‘dataset/articles_emb.csv’\n",
      "\n",
      "articles_emb.csv    100%[===================>] 973.15M  6.71MB/s    in 3m 43s  \n",
      "\n",
      "2022-06-05 05:50:45 (4.37 MB/s) - ‘dataset/articles_emb.csv’ saved [1020419923/1020419923]\n",
      "\n",
      "--2022-06-05 05:50:45--  http://tianchi-competition.oss-cn-hangzhou.aliyuncs.com/531842/testA_click_log.csv\n",
      "Resolving tianchi-competition.oss-cn-hangzhou.aliyuncs.com (tianchi-competition.oss-cn-hangzhou.aliyuncs.com)... 124.160.145.52\n",
      "Connecting to tianchi-competition.oss-cn-hangzhou.aliyuncs.com (tianchi-competition.oss-cn-hangzhou.aliyuncs.com)|124.160.145.52|:80... connected.\n",
      "HTTP request sent, awaiting response... 200 OK\n",
      "Length: 21459692 (20M) [text/csv]\n",
      "Saving to: ‘dataset/testA_click_log.csv’\n",
      "\n",
      "testA_click_log.csv 100%[===================>]  20.46M  4.48MB/s    in 4.8s    \n",
      "\n",
      "2022-06-05 05:51:05 (4.28 MB/s) - ‘dataset/testA_click_log.csv’ saved [21459692/21459692]\n",
      "\n",
      "--2022-06-05 05:51:06--  http://tianchi-competition.oss-cn-hangzhou.aliyuncs.com/531842/train_click_log.csv\n",
      "Resolving tianchi-competition.oss-cn-hangzhou.aliyuncs.com (tianchi-competition.oss-cn-hangzhou.aliyuncs.com)... 124.160.145.52\n",
      "Connecting to tianchi-competition.oss-cn-hangzhou.aliyuncs.com (tianchi-competition.oss-cn-hangzhou.aliyuncs.com)|124.160.145.52|:80... connected.\n",
      "HTTP request sent, awaiting response... 200 OK\n",
      "Length: 45609590 (43M) [text/csv]\n",
      "Saving to: ‘dataset/train_click_log.csv’\n",
      "\n",
      "train_click_log.csv 100%[===================>]  43.50M  5.82MB/s    in 9.0s    \n",
      "\n",
      "2022-06-05 05:51:30 (4.82 MB/s) - ‘dataset/train_click_log.csv’ saved [45609590/45609590]\n",
      "\n",
      "/bin/bash: response-content-disposition=attachment%3B%20: command not found\n",
      "--2022-06-05 05:51:30--  https://aliyuntianchiresult.cn-hangzhou.oss.aliyun-inc.com/file/race/documents/531842/sample_submit.csv?Expires=1654444807\n"
     ]
    }
   ],
   "source": [
    "!wget -P dataset http://tianchi-competition.oss-cn-hangzhou.aliyuncs.com/531842/articles.csv\n",
    "!wget -P dataset http://tianchi-competition.oss-cn-hangzhou.aliyuncs.com/531842/articles_emb.csv\n",
    "!wget -P dataset http://tianchi-competition.oss-cn-hangzhou.aliyuncs.com/531842/testA_click_log.csv\n",
    "!wget -P dataset http://tianchi-competition.oss-cn-hangzhou.aliyuncs.com/531842/train_click_log.csv\n",
    "!wget -P dataset https://aliyuntianchiresult.cn-hangzhou.oss.aliyun-inc.com/file/race/documents/531842/sample_submit.csv?Expires=1654444807&OSSAccessKeyId=LTAI5tJYjgpnqJHcXFPFwvSi&Signature=KVV0F40xIWk8fxNpMsWwnnNwadw%3D&response-content-disposition=attachment%3B%20"
   ]
  },
  {
   "cell_type": "code",
   "execution_count": 7,
   "id": "60fb29ab",
   "metadata": {},
   "outputs": [
    {
     "name": "stdout",
     "output_type": "stream",
     "text": [
      "/bin/bash: ll: command not found\r\n"
     ]
    }
   ],
   "source": [
    "!ls -lh dataset"
   ]
  },
  {
   "cell_type": "code",
   "execution_count": null,
   "id": "47b81c9b",
   "metadata": {},
   "outputs": [],
   "source": []
  }
 ],
 "metadata": {
  "kernelspec": {
   "display_name": "Python 3 (ipykernel)",
   "language": "python",
   "name": "python3"
  },
  "language_info": {
   "codemirror_mode": {
    "name": "ipython",
    "version": 3
   },
   "file_extension": ".py",
   "mimetype": "text/x-python",
   "name": "python",
   "nbconvert_exporter": "python",
   "pygments_lexer": "ipython3",
   "version": "3.8.10"
  }
 },
 "nbformat": 4,
 "nbformat_minor": 5
}
