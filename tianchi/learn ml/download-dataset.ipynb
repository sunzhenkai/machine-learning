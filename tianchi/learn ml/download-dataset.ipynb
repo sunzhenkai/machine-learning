{
 "cells": [
  {
   "cell_type": "code",
   "execution_count": 1,
   "id": "105df5e8",
   "metadata": {},
   "outputs": [
    {
     "name": "stdout",
     "output_type": "stream",
     "text": [
      "ok\n"
     ]
    }
   ],
   "source": [
    "![ ! -e dataset ] && mkdir dataset && echo \"ok\""
   ]
  },
  {
   "cell_type": "code",
   "execution_count": 2,
   "id": "8fe447e1",
   "metadata": {},
   "outputs": [
    {
     "name": "stdout",
     "output_type": "stream",
     "text": [
      "--2024-01-31 07:57:37--  http://tianchi-competition.oss-cn-hangzhou.aliyuncs.com/531842/articles.csv\n",
      "Resolving tianchi-competition.oss-cn-hangzhou.aliyuncs.com (tianchi-competition.oss-cn-hangzhou.aliyuncs.com)... 124.160.145.52\n",
      "Connecting to tianchi-competition.oss-cn-hangzhou.aliyuncs.com (tianchi-competition.oss-cn-hangzhou.aliyuncs.com)|124.160.145.52|:80... connected.\n",
      "HTTP request sent, awaiting response... 200 OK\n",
      "Length: 10365815 (9.9M) [text/csv]\n",
      "Saving to: 'dataset/articles.csv'\n",
      "\n",
      "articles.csv        100%[===================>]   9.88M  26.3MB/s    in 0.4s    \n",
      "\n",
      "2024-01-31 07:57:38 (26.3 MB/s) - 'dataset/articles.csv' saved [10365815/10365815]\n",
      "\n",
      "--2024-01-31 07:57:38--  http://tianchi-competition.oss-cn-hangzhou.aliyuncs.com/531842/articles_emb.csv\n",
      "Resolving tianchi-competition.oss-cn-hangzhou.aliyuncs.com (tianchi-competition.oss-cn-hangzhou.aliyuncs.com)... 124.160.145.52\n",
      "Connecting to tianchi-competition.oss-cn-hangzhou.aliyuncs.com (tianchi-competition.oss-cn-hangzhou.aliyuncs.com)|124.160.145.52|:80... connected.\n",
      "HTTP request sent, awaiting response... 200 OK\n",
      "Length: 1020419923 (973M) [text/csv]\n",
      "Saving to: 'dataset/articles_emb.csv'\n",
      "\n",
      "articles_emb.csv    100%[===================>] 973.15M  31.4MB/s    in 33s     \n",
      "\n",
      "2024-01-31 07:58:11 (29.5 MB/s) - 'dataset/articles_emb.csv' saved [1020419923/1020419923]\n",
      "\n",
      "--2024-01-31 07:58:11--  http://tianchi-competition.oss-cn-hangzhou.aliyuncs.com/531842/testA_click_log.csv\n",
      "Resolving tianchi-competition.oss-cn-hangzhou.aliyuncs.com (tianchi-competition.oss-cn-hangzhou.aliyuncs.com)... 124.160.145.52\n",
      "Connecting to tianchi-competition.oss-cn-hangzhou.aliyuncs.com (tianchi-competition.oss-cn-hangzhou.aliyuncs.com)|124.160.145.52|:80... connected.\n",
      "HTTP request sent, awaiting response... 200 OK\n",
      "Length: 21459692 (20M) [text/csv]\n",
      "Saving to: 'dataset/testA_click_log.csv'\n",
      "\n",
      "testA_click_log.csv 100%[===================>]  20.46M  22.5MB/s    in 0.9s    \n",
      "\n",
      "2024-01-31 07:58:12 (22.5 MB/s) - 'dataset/testA_click_log.csv' saved [21459692/21459692]\n",
      "\n",
      "--2024-01-31 07:58:12--  http://tianchi-competition.oss-cn-hangzhou.aliyuncs.com/531842/train_click_log.csv\n",
      "Resolving tianchi-competition.oss-cn-hangzhou.aliyuncs.com (tianchi-competition.oss-cn-hangzhou.aliyuncs.com)... 124.160.145.52\n",
      "Connecting to tianchi-competition.oss-cn-hangzhou.aliyuncs.com (tianchi-competition.oss-cn-hangzhou.aliyuncs.com)|124.160.145.52|:80... connected.\n",
      "HTTP request sent, awaiting response... 200 OK\n",
      "Length: 45609590 (43M) [text/csv]\n",
      "Saving to: 'dataset/train_click_log.csv'\n",
      "\n",
      "train_click_log.csv 100%[===================>]  43.50M  33.3MB/s    in 1.3s    \n",
      "\n",
      "2024-01-31 07:58:14 (33.3 MB/s) - 'dataset/train_click_log.csv' saved [45609590/45609590]\n",
      "\n",
      "/bin/sh: 1: response-content-disposition=attachment%3B%20: not found\n"
     ]
    }
   ],
   "source": [
    "!wget -P dataset http://tianchi-competition.oss-cn-hangzhou.aliyuncs.com/531842/articles.csv\n",
    "!wget -P dataset http://tianchi-competition.oss-cn-hangzhou.aliyuncs.com/531842/articles_emb.csv\n",
    "!wget -P dataset http://tianchi-competition.oss-cn-hangzhou.aliyuncs.com/531842/testA_click_log.csv\n",
    "!wget -P dataset http://tianchi-competition.oss-cn-hangzhou.aliyuncs.com/531842/train_click_log.csv\n",
    "!wget -P dataset https://aliyuntianchiresult.cn-hangzhou.oss.aliyun-inc.com/file/race/documents/531842/sample_submit.csv?Expires=1654444807&OSSAccessKeyId=LTAI5tJYjgpnqJHcXFPFwvSi&Signature=KVV0F40xIWk8fxNpMsWwnnNwadw%3D&response-content-disposition=attachment%3B%20"
   ]
  },
  {
   "cell_type": "code",
   "execution_count": 3,
   "id": "60fb29ab",
   "metadata": {},
   "outputs": [
    {
     "name": "stdout",
     "output_type": "stream",
     "text": [
      "total 1.1G\n",
      "-rw-r--r-- 1 root root 9.9M Nov 21  2020 articles.csv\n",
      "-rw-r--r-- 1 root root 974M Nov 21  2020 articles_emb.csv\n",
      "-rw-r--r-- 1 root root  21M Nov 21  2020 testA_click_log.csv\n",
      "-rw-r--r-- 1 root root  44M Nov 21  2020 train_click_log.csv\n"
     ]
    }
   ],
   "source": [
    "!ls -lh dataset"
   ]
  },
  {
   "cell_type": "code",
   "execution_count": 1,
   "id": "47b81c9b",
   "metadata": {},
   "outputs": [
    {
     "name": "stdout",
     "output_type": "stream",
     "text": [
      "root\n",
      "bash: line 1: ossutil: command not found\n"
     ]
    }
   ],
   "source": [
    "!whoami\n",
    "!bash -c 'source /root/.bashrc && ossutil cp oss://tianchi-race-prod-sh/file/race/documents/531842/sample_submit.csv ./dataset/sample_submit.csv -i STS.NUHsu9AR2tmK6NrzdQvnA91vm -k AcbFoZPwxpFJHx9KGbMJwhaXXq7Ph4bVb5BvshZisZXx --endpoint=oss-cn-shanghai.aliyuncs.com --sts-token=CAIS4QJ1q6Ft5B2yfSjIr5b9OM+NrI0Tw6+gNGjDnmQEeuFt1vTdjzz2IHhPfHlpAe0Zs/Q/nWpW6PYclrhvQKhJTFDNacJ62ckMqFP9OdJvZg0TU+VW5qe+EE2/VjQ3ta27OpcPJbGwU/OpbE++2U0X6LDmdDKkckW4OJmS8/BOZcgWWQ/KClgjA8xNdCRvtOgQN3baKYypUHjQj3HXEVBjtydllGp78t7f+MCH7QfEh1CI8o0zro/qcJ+/dJsubtUtT9a82ud2d+/b2SVdrgBQ86szl6wD9zbDs5aHClJcpBmBOPfR/9tzN0gkPfFqR/QDt/H5jfl1jffOnYH211BGJv8XcVyGGNn5kJqbQLrxZ4hnKOamARmXjIDTbKuSmhg/fHcWODlNf9ccMXJqAXQuMGqCcff3oQiXPVrzG/Hfjv9mj4AL01Th+9GKJh2DSqmQyisEf4Ika0QhOw7HFbUX1ESvGRqAAVEtDe0F0BskOZ2TWIRx0PM9xY+sC/QUtKFLwx/7CpB7Iml2DGGDsLwqHnVOHvxElEenTot2Iod/+Q7ODzNRDVVRbSJwNuQ57MwzSkgI6XhM5mb1GVo04xI4ZSnH4W7gYYpFNtmSeAppDEBY/pK3ulmv/hlPIBXQ1ynVzs66fqkDIAA='"
   ]
  },
  {
   "cell_type": "code",
   "execution_count": null,
   "id": "8394f064-dc3a-4219-a466-404d8bbdcd37",
   "metadata": {},
   "outputs": [],
   "source": [
    "!ls dataset"
   ]
  },
  {
   "cell_type": "code",
   "execution_count": 8,
   "id": "c5f60b01-c779-4487-baa4-4421157f830a",
   "metadata": {},
   "outputs": [
    {
     "name": "stdout",
     "output_type": "stream",
     "text": [
      "/usr/local/sbin:/usr/local/bin:/usr/sbin:/usr/bin:/sbin:/bin\n",
      "/bin/sh: 1: source: not found\n",
      "/usr/local/sbin:/usr/local/bin:/usr/sbin:/usr/bin:/sbin:/bin\n",
      "/bin/sh: 1: ossutil: not found\n"
     ]
    }
   ],
   "source": [
    "!echo $PATH\n",
    "!source /root/.bashrc\n",
    "!echo $PATH\n",
    "!ossutil cp oss://tianchi-race-prod-sh/file/race/documents/531842/sample_submit.csv ./dataset/sample_submit.csv -i STS.NUHsu9AR2tmK6NrzdQvnA91vm -k AcbFoZPwxpFJHx9KGbMJwhaXXq7Ph4bVb5BvshZisZXx --endpoint=oss-cn-shanghai.aliyuncs.com --sts-token=CAIS4QJ1q6Ft5B2yfSjIr5b9OM+NrI0Tw6+gNGjDnmQEeuFt1vTdjzz2IHhPfHlpAe0Zs/Q/nWpW6PYclrhvQKhJTFDNacJ62ckMqFP9OdJvZg0TU+VW5qe+EE2/VjQ3ta27OpcPJbGwU/OpbE++2U0X6LDmdDKkckW4OJmS8/BOZcgWWQ/KClgjA8xNdCRvtOgQN3baKYypUHjQj3HXEVBjtydllGp78t7f+MCH7QfEh1CI8o0zro/qcJ+/dJsubtUtT9a82ud2d+/b2SVdrgBQ86szl6wD9zbDs5aHClJcpBmBOPfR/9tzN0gkPfFqR/QDt/H5jfl1jffOnYH211BGJv8XcVyGGNn5kJqbQLrxZ4hnKOamARmXjIDTbKuSmhg/fHcWODlNf9ccMXJqAXQuMGqCcff3oQiXPVrzG/Hfjv9mj4AL01Th+9GKJh2DSqmQyisEf4Ika0QhOw7HFbUX1ESvGRqAAVEtDe0F0BskOZ2TWIRx0PM9xY+sC/QUtKFLwx/7CpB7Iml2DGGDsLwqHnVOHvxElEenTot2Iod/+Q7ODzNRDVVRbSJwNuQ57MwzSkgI6XhM5mb1GVo04xI4ZSnH4W7gYYpFNtmSeAppDEBY/pK3ulmv/hlPIBXQ1ynVzs66fqkDIAA="
   ]
  },
  {
   "cell_type": "code",
   "execution_count": 7,
   "id": "91ccd9c2-2827-4187-ad76-2ad54f0f0b29",
   "metadata": {},
   "outputs": [
    {
     "name": "stdout",
     "output_type": "stream",
     "text": [
      "Reading package lists... Done\n",
      "Building dependency tree... Done\n",
      "Reading state information... Done\n",
      "\u001b[1;31mE: \u001b[0mUnable to locate package shopt\u001b[0m\n"
     ]
    }
   ],
   "source": [
    "!apt install shopt"
   ]
  },
  {
   "cell_type": "code",
   "execution_count": null,
   "id": "49e21497-cb62-4176-a68e-953bde4efa04",
   "metadata": {},
   "outputs": [],
   "source": []
  }
 ],
 "metadata": {
  "kernelspec": {
   "display_name": "Python 3 (ipykernel)",
   "language": "python",
   "name": "python3"
  },
  "language_info": {
   "codemirror_mode": {
    "name": "ipython",
    "version": 3
   },
   "file_extension": ".py",
   "mimetype": "text/x-python",
   "name": "python",
   "nbconvert_exporter": "python",
   "pygments_lexer": "ipython3",
   "version": "3.10.12"
  }
 },
 "nbformat": 4,
 "nbformat_minor": 5
}
