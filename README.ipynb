{
 "cells": [
  {
   "cell_type": "markdown",
   "id": "500ab5de-f464-4acf-b81e-e6973fcb59af",
   "metadata": {},
   "source": [
    "# Install dependencies"
   ]
  },
  {
   "cell_type": "code",
   "execution_count": 2,
   "id": "e4a51dfc-3a62-41b0-8d15-a17e20523044",
   "metadata": {},
   "outputs": [],
   "source": [
    "#!nvidia-smi"
   ]
  },
  {
   "cell_type": "code",
   "execution_count": 7,
   "id": "fe7003e2-bde3-4629-9966-7437eca00a18",
   "metadata": {},
   "outputs": [],
   "source": [
    "#!pip3 install --upgrade pip"
   ]
  },
  {
   "cell_type": "code",
   "execution_count": 9,
   "id": "96669c3d-65a2-4c0e-836e-657b06745e8d",
   "metadata": {
    "scrolled": true
   },
   "outputs": [],
   "source": [
    "# 安装 pytorch (gpu)\n",
    "#!pip3 install torch torchvision torchaudio --index-url https://download.pytorch.org/whl/cu121"
   ]
  },
  {
   "cell_type": "code",
   "execution_count": 10,
   "id": "829fcab5-9713-4621-9200-b77c25c405e0",
   "metadata": {
    "ExecuteTime": {
     "end_time": "2024-07-01T15:39:46.168999Z",
     "start_time": "2024-07-01T15:39:05.781604Z"
    },
    "scrolled": true
   },
   "outputs": [],
   "source": [
    "# 安装依赖包\n",
    "#!pip3 install numpy pandas seaborn matplotlib scipy scikit-learn tensorflow"
   ]
  }
 ],
 "metadata": {
  "kernelspec": {
   "display_name": "Python 3 (ipykernel)",
   "language": "python",
   "name": "python3"
  },
  "language_info": {
   "codemirror_mode": {
    "name": "ipython",
    "version": 3
   },
   "file_extension": ".py",
   "mimetype": "text/x-python",
   "name": "python",
   "nbconvert_exporter": "python",
   "pygments_lexer": "ipython3",
   "version": "3.12.4"
  }
 },
 "nbformat": 4,
 "nbformat_minor": 5
}
