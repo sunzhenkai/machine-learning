{
 "cells": [
  {
   "cell_type": "markdown",
   "id": "e4b8f8ca-0c5a-4d14-980e-4ce4ff97fe24",
   "metadata": {},
   "source": [
    "使用 PyTorch 进行 LR 预估"
   ]
  },
  {
   "cell_type": "markdown",
   "id": "8f873cc3-ac9f-4562-a81d-56152cbe8a80",
   "metadata": {},
   "source": [
    "# 拟合一元函数"
   ]
  },
  {
   "cell_type": "code",
   "execution_count": 2,
   "id": "e07591f7-b1bf-49ca-81ef-700641caca66",
   "metadata": {},
   "outputs": [],
   "source": [
    "import torch\n",
    "from torch.autograd import Variable"
   ]
  },
  {
   "cell_type": "code",
   "execution_count": 4,
   "id": "6e3c5989-f52c-4263-bfb9-6597b41d8966",
   "metadata": {},
   "outputs": [],
   "source": [
    "# 构造数据\n",
    "x_data = Variable(torch.Tensor([[1.0], [2.0], [3.0]]))\n",
    "y_data = Variable(torch.Tensor([[2.0], [4.0], [6.0]]))"
   ]
  },
  {
   "cell_type": "code",
   "execution_count": null,
   "id": "f57b22c1-ded3-45dd-b0c1-aaea3ac9eed3",
   "metadata": {},
   "outputs": [],
   "source": [
    "class LrModel(torch.nn.Module):\n",
    "    def __init__(self):\n",
    "        super(LinearRegressionModel, self).__init__()\n",
    "        self.linear = torch.nn.Linear(1, 1)"
   ]
  }
 ],
 "metadata": {
  "kernelspec": {
   "display_name": "Python 3 (ipykernel)",
   "language": "python",
   "name": "python3"
  },
  "language_info": {
   "codemirror_mode": {
    "name": "ipython",
    "version": 3
   },
   "file_extension": ".py",
   "mimetype": "text/x-python",
   "name": "python",
   "nbconvert_exporter": "python",
   "pygments_lexer": "ipython3",
   "version": "3.12.4"
  }
 },
 "nbformat": 4,
 "nbformat_minor": 5
}
