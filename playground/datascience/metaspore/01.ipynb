{
 "cells": [
  {
   "cell_type": "code",
   "execution_count": 1,
   "id": "6c9ba85f-d450-4000-87cf-f80fdd447ca9",
   "metadata": {
    "execution": {
     "iopub.execute_input": "2025-06-22T08:22:21.200701Z",
     "iopub.status.busy": "2025-06-22T08:22:21.200090Z",
     "iopub.status.idle": "2025-06-22T08:22:57.403730Z",
     "shell.execute_reply": "2025-06-22T08:22:57.401326Z",
     "shell.execute_reply.started": "2025-06-22T08:22:21.200640Z"
    },
    "tags": []
   },
   "outputs": [
    {
     "name": "stdout",
     "output_type": "stream",
     "text": [
      "--2025-06-22 16:22:21--  https://criteostorage.blob.core.windows.net/criteo-research-datasets/kaggle-display-advertising-challenge-dataset.tar.gz\n",
      "Resolving criteostorage.blob.core.windows.net (criteostorage.blob.core.windows.net)... 20.209.1.1\n",
      "Connecting to criteostorage.blob.core.windows.net (criteostorage.blob.core.windows.net)|20.209.1.1|:443... connected.\n",
      "HTTP request sent, awaiting response... 200 OK\n",
      "Length: 4576820670 (4.3G) [application/x-gzip]\n",
      "Saving to: ‘kaggle-display-advertising-challenge-dataset.tar.gz’\n",
      "\n",
      "     kaggle-display   5%[>                   ] 256.01M  8.12MB/s    eta 9m 10s ^C\n"
     ]
    }
   ],
   "source": [
    "!wget https://criteostorage.blob.core.windows.net/criteo-research-datasets/kaggle-display-advertising-challenge-dataset.tar.gz"
   ]
  },
  {
   "cell_type": "code",
   "execution_count": 2,
   "id": "28136120-13df-4d30-a53c-895e48dfe875",
   "metadata": {
    "execution": {
     "iopub.execute_input": "2025-06-22T08:23:06.386225Z",
     "iopub.status.busy": "2025-06-22T08:23:06.385681Z",
     "iopub.status.idle": "2025-06-22T08:23:07.094727Z",
     "shell.execute_reply": "2025-06-22T08:23:07.092731Z",
     "shell.execute_reply.started": "2025-06-22T08:23:06.386174Z"
    },
    "tags": []
   },
   "outputs": [],
   "source": [
    "!rm kaggle-display-advertising-challenge-dataset.tar.gz"
   ]
  },
  {
   "cell_type": "code",
   "execution_count": null,
   "id": "19433725-f812-40bb-a5b4-38dbf6548e3f",
   "metadata": {},
   "outputs": [],
   "source": []
  }
 ],
 "metadata": {
  "kernelspec": {
   "display_name": "Python 3 (ipykernel)",
   "language": "python",
   "name": "python3"
  },
  "language_info": {
   "codemirror_mode": {
    "name": "ipython",
    "version": 3
   },
   "file_extension": ".py",
   "mimetype": "text/x-python",
   "name": "python",
   "nbconvert_exporter": "python",
   "pygments_lexer": "ipython3",
   "version": "3.8.10"
  }
 },
 "nbformat": 4,
 "nbformat_minor": 5
}
