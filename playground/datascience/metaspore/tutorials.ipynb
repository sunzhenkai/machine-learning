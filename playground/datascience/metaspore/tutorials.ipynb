{
 "cells": [
  {
   "cell_type": "code",
   "execution_count": 1,
   "id": "65c205c8-277f-4848-970c-dda94aabcfcf",
   "metadata": {
    "execution": {
     "iopub.execute_input": "2025-06-22T08:52:22.499767Z",
     "iopub.status.busy": "2025-06-22T08:52:22.499182Z",
     "iopub.status.idle": "2025-06-22T08:52:22.517269Z",
     "shell.execute_reply": "2025-06-22T08:52:22.515516Z",
     "shell.execute_reply.started": "2025-06-22T08:52:22.499708Z"
    },
    "tags": []
   },
   "outputs": [],
   "source": [
    "import os\n",
    "import pyspark\n",
    "from pyspark.sql import SparkSession\n",
    "from pyspark.sql.functions import col, from_json, greatest, lit, abs\n",
    "from configparser import ConfigParser"
   ]
  },
  {
   "cell_type": "code",
   "execution_count": 5,
   "id": "f121fa9d-7679-4cbc-9236-52557ae159c1",
   "metadata": {
    "execution": {
     "iopub.execute_input": "2025-06-22T08:53:44.026768Z",
     "iopub.status.busy": "2025-06-22T08:53:44.026089Z",
     "iopub.status.idle": "2025-06-22T08:53:44.035495Z",
     "shell.execute_reply": "2025-06-22T08:53:44.033703Z",
     "shell.execute_reply.started": "2025-06-22T08:53:44.026700Z"
    },
    "tags": []
   },
   "outputs": [],
   "source": [
    "jars_dir = \"/home/dev/jars\"\n",
    "jars_list = [\n",
    "    os.path.join(jars_dir, f) for f in os.listdir(jars_dir) if f.endswith(\".jar\")\n",
    "]\n",
    "jars_str = \",\".join(jars_list)"
   ]
  },
  {
   "cell_type": "code",
   "execution_count": 6,
   "id": "9409fa36-ec28-4f3f-8c14-b5646b4cad76",
   "metadata": {
    "execution": {
     "iopub.execute_input": "2025-06-22T08:54:04.031312Z",
     "iopub.status.busy": "2025-06-22T08:54:04.030600Z",
     "iopub.status.idle": "2025-06-22T08:54:08.069856Z",
     "shell.execute_reply": "2025-06-22T08:54:08.068621Z",
     "shell.execute_reply.started": "2025-06-22T08:54:04.031244Z"
    },
    "tags": []
   },
   "outputs": [
    {
     "name": "stderr",
     "output_type": "stream",
     "text": [
      "Setting default log level to \"WARN\".\n",
      "To adjust logging level use sc.setLogLevel(newLevel). For SparkR, use setLogLevel(newLevel).\n"
     ]
    },
    {
     "name": "stdout",
     "output_type": "stream",
     "text": [
      "25/06/22 16:54:06 WARN NativeCodeLoader: Unable to load native-hadoop library for your platform... using builtin-java classes where applicable\n",
      "25/06/22 16:54:07 WARN Utils: Service 'SparkUI' could not bind on port 4040. Attempting port 4041.\n",
      "Spark Version:  3.3.2\n"
     ]
    }
   ],
   "source": [
    "spark = (\n",
    "    SparkSession.builder.appName(\"LocalPySparkExample\")\n",
    "    .config(\"spark.jars\", jars_str)\n",
    "    .master(\"local[*]\")\n",
    "    .config(\"spark.driver.memory\", \"60g\")\n",
    "    .config(\"spark.driver.maxResultSize\", \"4g\")\n",
    "    .config(\"spark.sql.shuffle.partitions\", \"400\")\n",
    "    .config(\"spark.default.parallelism\", \"400\")\n",
    "    .config(\"spark.executor.extraJavaOptions\", \"-XX:+UseG1GC -XX:InitiatingHeapOccupancyPercent=35\")\n",
    "    .getOrCreate()\n",
    ")\n",
    "\n",
    "print('Spark Version: ', spark.version)"
   ]
  },
  {
   "cell_type": "code",
   "execution_count": null,
   "id": "60334734-350d-4189-8977-3fa0d9077249",
   "metadata": {},
   "outputs": [],
   "source": [
    "dataset_path = ''"
   ]
  }
 ],
 "metadata": {
  "kernelspec": {
   "display_name": "Python 3 (ipykernel)",
   "language": "python",
   "name": "python3"
  },
  "language_info": {
   "codemirror_mode": {
    "name": "ipython",
    "version": 3
   },
   "file_extension": ".py",
   "mimetype": "text/x-python",
   "name": "python",
   "nbconvert_exporter": "python",
   "pygments_lexer": "ipython3",
   "version": "3.8.10"
  }
 },
 "nbformat": 4,
 "nbformat_minor": 5
}
