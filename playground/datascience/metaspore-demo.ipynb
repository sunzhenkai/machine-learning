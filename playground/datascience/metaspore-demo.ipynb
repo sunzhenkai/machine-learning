{
 "cells": [
  {
   "cell_type": "code",
   "execution_count": 1,
   "id": "183d5212-dfa7-4d83-afd7-8fdb039d946f",
   "metadata": {
    "execution": {
     "iopub.execute_input": "2025-01-16T13:21:27.951059Z",
     "iopub.status.busy": "2025-01-16T13:21:27.950101Z",
     "iopub.status.idle": "2025-01-16T13:21:27.968432Z",
     "shell.execute_reply": "2025-01-16T13:21:27.966314Z",
     "shell.execute_reply.started": "2025-01-16T13:21:27.950994Z"
    },
    "tags": []
   },
   "outputs": [],
   "source": [
    "# download from: https://criteostorage.blob.core.windows.net/criteo-research-datasets/kaggle-display-advertising-challenge-dataset.tar.gz\n",
    "\n",
    "import pyspark\n",
    "from pyspark import SparkConf"
   ]
  },
  {
   "cell_type": "code",
   "execution_count": 2,
   "id": "1603df2a-b024-4f47-844c-1cc485b56be8",
   "metadata": {
    "execution": {
     "iopub.execute_input": "2025-01-16T13:21:28.593509Z",
     "iopub.status.busy": "2025-01-16T13:21:28.592764Z",
     "iopub.status.idle": "2025-01-16T13:21:28.600326Z",
     "shell.execute_reply": "2025-01-16T13:21:28.598736Z",
     "shell.execute_reply.started": "2025-01-16T13:21:28.593447Z"
    },
    "tags": []
   },
   "outputs": [],
   "source": [
    "dataset = ('hdfs://namenode/dataset/demo/readme.txt', 'hdfs://namenode/dataset/demo/train.txt', 'hdfs://namenode/dataset/demo/test.txt')"
   ]
  },
  {
   "cell_type": "code",
   "execution_count": 3,
   "id": "03caaa36-d1de-4164-8903-89e6771efa73",
   "metadata": {
    "execution": {
     "iopub.execute_input": "2025-01-16T13:21:29.502429Z",
     "iopub.status.busy": "2025-01-16T13:21:29.501572Z",
     "iopub.status.idle": "2025-01-16T13:21:33.503500Z",
     "shell.execute_reply": "2025-01-16T13:21:33.501948Z",
     "shell.execute_reply.started": "2025-01-16T13:21:29.502362Z"
    },
    "tags": []
   },
   "outputs": [
    {
     "name": "stderr",
     "output_type": "stream",
     "text": [
      "Setting default log level to \"WARN\".\n",
      "To adjust logging level use sc.setLogLevel(newLevel). For SparkR, use setLogLevel(newLevel).\n"
     ]
    },
    {
     "name": "stdout",
     "output_type": "stream",
     "text": [
      "25/01/16 21:21:31 WARN NativeCodeLoader: Unable to load native-hadoop library for your platform... using builtin-java classes where applicable\n"
     ]
    }
   ],
   "source": [
    "spark = pyspark.sql.SparkSession.builder.master(\"spark://datascience-spark:7077\").config(\"spark.executor.memory\", \"4g\").getOrCreate()"
   ]
  },
  {
   "cell_type": "code",
   "execution_count": 4,
   "id": "3cbc0729-356c-412c-8d90-bd8008836238",
   "metadata": {
    "execution": {
     "iopub.execute_input": "2025-01-16T13:21:33.506539Z",
     "iopub.status.busy": "2025-01-16T13:21:33.506119Z",
     "iopub.status.idle": "2025-01-16T13:21:33.512055Z",
     "shell.execute_reply": "2025-01-16T13:21:33.510969Z",
     "shell.execute_reply.started": "2025-01-16T13:21:33.506489Z"
    },
    "tags": []
   },
   "outputs": [],
   "source": [
    "# from pyspark import SparkConf, SparkContext\n",
    "\n",
    "# conf = SparkConf()\n",
    "\n",
    "# conf.setAppName('metaspore-demo')\n",
    "# conf.setMaster('spark://datascience-spark:7077')\n",
    "# sc = SparkContext(conf=conf)"
   ]
  },
  {
   "cell_type": "code",
   "execution_count": 5,
   "id": "dce74f12-8c56-4f5f-814b-1d10142932aa",
   "metadata": {
    "execution": {
     "iopub.execute_input": "2025-01-16T13:21:34.797132Z",
     "iopub.status.busy": "2025-01-16T13:21:34.796338Z",
     "iopub.status.idle": "2025-01-16T13:21:40.753259Z",
     "shell.execute_reply": "2025-01-16T13:21:40.751762Z",
     "shell.execute_reply.started": "2025-01-16T13:21:34.797072Z"
    },
    "tags": []
   },
   "outputs": [
    {
     "name": "stderr",
     "output_type": "stream",
     "text": [
      "[Stage 0:>                                                          (0 + 1) / 1]\r"
     ]
    },
    {
     "name": "stdout",
     "output_type": "stream",
     "text": [
      "        ------ Display Advertising Challenge ------\n",
      "\n",
      "Dataset: dac-v1\n",
      "\n",
      "This dataset contains feature values and click feedback for millions of display \n",
      "ads. Its purpose is to benchmark algorithms for clickthrough rate (CTR) prediction.\n",
      "It has been used for the Display Advertising Challenge hosted by Kaggle:\n",
      "https://www.kaggle.com/c/criteo-display-ad-challenge/\n",
      "\n",
      "===================================================\n",
      "\n",
      "Full description:\n",
      "\n",
      "This dataset contains 2 files:\n",
      "  train.txt\n",
      "  test.txt\n",
      "corresponding to the training and test parts of the data. \n",
      "\n",
      "====================================================\n",
      "\n",
      "Dataset construction:\n",
      "\n",
      "The training dataset consists of a portion of Criteo's traffic over a period\n",
      "of 7 days. Each row corresponds to a display ad served by Criteo and the first\n",
      "column is indicates whether this ad has been clicked or not.\n",
      "The positive (clicked) and negatives (non-clicked) examples have both been\n",
      "subsampled (but at different rates) in order to reduce the dataset size.\n",
      "\n",
      "There are 13 features taking integer values (mostly count features) and 26\n",
      "categorical features. The values of the categorical features have been hashed\n",
      "onto 32 bits for anonymization purposes. \n",
      "The semantic of these features is undisclosed. Some features may have missing values.\n",
      "\n",
      "The rows are chronologically ordered.\n",
      "\n",
      "The test set is computed in the same way as the training set but it \n",
      "corresponds to events on the day following the training period. \n",
      "The first column (label) has been removed.\n",
      "\n",
      "====================================================\n",
      "\n",
      "Format:\n",
      "\n",
      "The columns are tab separeted with the following schema:\n",
      "<label> <integer feature 1> ... <integer feature 13> <categorical feature 1> ... <categorical feature 26>\n",
      "\n",
      "When a value is missing, the field is just empty.\n",
      "There is no label field in the test set.\n",
      "\n",
      "====================================================\n",
      "\n",
      "Dataset assembled by Olivier Chapelle (o.chapelle@criteo.com)\n",
      "\n"
     ]
    },
    {
     "name": "stderr",
     "output_type": "stream",
     "text": [
      "                                                                                \r"
     ]
    }
   ],
   "source": [
    "readme  = spark.read.text(dataset[0])\n",
    "for line in readme.collect():\n",
    "    print(line[0])"
   ]
  },
  {
   "cell_type": "code",
   "execution_count": 8,
   "id": "34c82f94-a79a-438e-a2d2-95b3a80e7811",
   "metadata": {
    "execution": {
     "iopub.execute_input": "2025-01-16T13:22:38.816140Z",
     "iopub.status.busy": "2025-01-16T13:22:38.815719Z",
     "iopub.status.idle": "2025-01-16T13:22:39.271431Z",
     "shell.execute_reply": "2025-01-16T13:22:39.269856Z",
     "shell.execute_reply.started": "2025-01-16T13:22:38.816100Z"
    },
    "tags": []
   },
   "outputs": [],
   "source": [
    "df_test = spark.read.csv(dataset[2], header=False, sep='\\t')"
   ]
  },
  {
   "cell_type": "code",
   "execution_count": 9,
   "id": "f2e82e65-7231-419e-bcba-0d8a0f5b08b5",
   "metadata": {
    "execution": {
     "iopub.execute_input": "2025-01-16T13:22:39.756491Z",
     "iopub.status.busy": "2025-01-16T13:22:39.755846Z",
     "iopub.status.idle": "2025-01-16T13:22:39.766813Z",
     "shell.execute_reply": "2025-01-16T13:22:39.764917Z",
     "shell.execute_reply.started": "2025-01-16T13:22:39.756426Z"
    },
    "tags": []
   },
   "outputs": [
    {
     "name": "stdout",
     "output_type": "stream",
     "text": [
      "root\n",
      " |-- _c0: string (nullable = true)\n",
      " |-- _c1: string (nullable = true)\n",
      " |-- _c2: string (nullable = true)\n",
      " |-- _c3: string (nullable = true)\n",
      " |-- _c4: string (nullable = true)\n",
      " |-- _c5: string (nullable = true)\n",
      " |-- _c6: string (nullable = true)\n",
      " |-- _c7: string (nullable = true)\n",
      " |-- _c8: string (nullable = true)\n",
      " |-- _c9: string (nullable = true)\n",
      " |-- _c10: string (nullable = true)\n",
      " |-- _c11: string (nullable = true)\n",
      " |-- _c12: string (nullable = true)\n",
      " |-- _c13: string (nullable = true)\n",
      " |-- _c14: string (nullable = true)\n",
      " |-- _c15: string (nullable = true)\n",
      " |-- _c16: string (nullable = true)\n",
      " |-- _c17: string (nullable = true)\n",
      " |-- _c18: string (nullable = true)\n",
      " |-- _c19: string (nullable = true)\n",
      " |-- _c20: string (nullable = true)\n",
      " |-- _c21: string (nullable = true)\n",
      " |-- _c22: string (nullable = true)\n",
      " |-- _c23: string (nullable = true)\n",
      " |-- _c24: string (nullable = true)\n",
      " |-- _c25: string (nullable = true)\n",
      " |-- _c26: string (nullable = true)\n",
      " |-- _c27: string (nullable = true)\n",
      " |-- _c28: string (nullable = true)\n",
      " |-- _c29: string (nullable = true)\n",
      " |-- _c30: string (nullable = true)\n",
      " |-- _c31: string (nullable = true)\n",
      " |-- _c32: string (nullable = true)\n",
      " |-- _c33: string (nullable = true)\n",
      " |-- _c34: string (nullable = true)\n",
      " |-- _c35: string (nullable = true)\n",
      " |-- _c36: string (nullable = true)\n",
      " |-- _c37: string (nullable = true)\n",
      " |-- _c38: string (nullable = true)\n",
      "\n"
     ]
    }
   ],
   "source": [
    "df_test.printSchema()"
   ]
  },
  {
   "cell_type": "code",
   "execution_count": 11,
   "id": "a6dc0c4c-cff2-472d-99fd-237142a9ed08",
   "metadata": {
    "execution": {
     "iopub.execute_input": "2025-01-16T13:23:09.961523Z",
     "iopub.status.busy": "2025-01-16T13:23:09.961050Z",
     "iopub.status.idle": "2025-01-16T13:23:10.713039Z",
     "shell.execute_reply": "2025-01-16T13:23:10.711438Z",
     "shell.execute_reply.started": "2025-01-16T13:23:09.961479Z"
    },
    "tags": []
   },
   "outputs": [
    {
     "name": "stdout",
     "output_type": "stream",
     "text": [
      "25/01/16 21:23:10 WARN package: Truncated the string representation of a plan since it was too large. This behavior can be adjusted by setting 'spark.sql.debug.maxToStringFields'.\n",
      "+----+----+----+----+------+----+----+---+----+----+----+----+----+--------+--------+--------+--------+--------+--------+--------+--------+--------+--------+--------+--------+--------+--------+--------+--------+--------+--------+--------+--------+--------+--------+--------+--------+--------+--------+\n",
      "| _c0| _c1| _c2| _c3|   _c4| _c5| _c6|_c7| _c8| _c9|_c10|_c11|_c12|    _c13|    _c14|    _c15|    _c16|    _c17|    _c18|    _c19|    _c20|    _c21|    _c22|    _c23|    _c24|    _c25|    _c26|    _c27|    _c28|    _c29|    _c30|    _c31|    _c32|    _c33|    _c34|    _c35|    _c36|    _c37|    _c38|\n",
      "+----+----+----+----+------+----+----+---+----+----+----+----+----+--------+--------+--------+--------+--------+--------+--------+--------+--------+--------+--------+--------+--------+--------+--------+--------+--------+--------+--------+--------+--------+--------+--------+--------+--------+--------+\n",
      "|null|  29|  50|   5|  7260| 437|   1|  4|  14|null|   1|   0|   6|5a9ed9b0|a0e12995|a1e14474|08a40877|25c83c98|    null|964d1fdd|5b392875|a73ee510|de89c3d2|59cd5ae7|8d98db20|8b216f7b|1adce6ef|78c64a1d|3ecdadf7|3486227d|1616f155|21ddcdc9|5840adea|2c277e62|    null|423fab69|54c91918|9b3e8820|e75c9ae9|\n",
      "|  27|  17|  45|  28|     2|  28|  27| 29|  28|   1|   1|null|  23|68fd1e64|960c983b|9fbfbfd5|38c11726|25c83c98|7e0ccccf|fe06fd10|062b5529|a73ee510|ca53fc84|67360210|895d8bbb|4f8e2224|f862f261|b4cc2435|4c0041e5|e5ba7672|b4abdd09|21ddcdc9|5840adea|36a7ab86|    null|32c7478e|85e4d73f|010f6491|ee63dd9b|\n",
      "|   1|   1|  19|   7|     1|   3|   1|  7|   7|   1|   1|null|   2|09ca0b81|8947f767|a87e61f7|c4ba2a67|25c83c98|7e0ccccf|ce6020cc|062b5529|a73ee510|b04d3cfe|70dcd184|899eb56b|aca22cf9|b28479f6|a473257f|88f592e4|d4bb7bd8|bd17c3da|1d04f4a4|a458ea53|82bdc0bb|    null|32c7478e|5bdcd9c4|010f6491|cca57dcc|\n",
      "|   4|   1|null|   6|  1051| 134|   4| 35|  72|   1|   1|null|   6|05db9164|532da141|a7ded28e|456b4d8c|25c83c98|fbad5c96|5f29da0e|0b153874|a73ee510|4b344a42|0ad37b4b|8ea37200|f9d99d81|cfef1c29|abd8f51e|9a9902d0|07c540c4|bdc06043|    null|    null|6dfd157c|ad3062eb|423fab69|ef089725|    null|    null|\n",
      "|   7|   1|  25|  10|   139|  74|  48| 13|  44|   1|   8|   2|  12|05db9164|207b2d81|2b280564|ad5ffc6b|25c83c98|7e0ccccf|103c17bc|0b153874|a73ee510|8e54038a|e6e0c2dc|2a064dba|e9332a03|07d13a8f|0c67c4ca|7d9b60c8|27c07bd6|395856b0|21ddcdc9|a458ea53|9c3eb598|ad3062eb|3a171ecb|c0b8dfd6|001f3601|7a2fb9af|\n",
      "|   8|  11|  38|   9|   316|  25|   8| 11|  10|   1|   1|null|   9|05db9164|09e68b86|aa8c1539|85dd697c|25c83c98|7e0ccccf|bc252bd0|5b392875|a73ee510|ef5c0d3c|0bd0c3b3|d8c29807|c0e6befc|8ceecbc8|d2f03b75|c64d548f|e5ba7672|63cdbb21|cf99e5de|5840adea|5f957280|    null|55dd3565|1793a828|e8b83407|b7d9c3bc|\n",
      "|   2|   1|null|   4|     7|   4|   2|  4|   4|   1|   1|null|   4|05db9164|2ae0a573|c5d94b65|5cc8f91d|25c83c98|fe6b92e5|dfc6e241|5b392875|a73ee510|5fe250bc|3547565f|75c79158|12880350|ad1cc976|b046231a|208d4baf|07c540c4|3e340673|    null|    null|6a909d9a|    null|c3dc6cef|1f68c81f|    null|    null|\n",
      "|null|   0|null|null|  8906| 541|   2|  2|  78|null|   1|null|null|05db9164|d833535f|b00d1501|d16679b9|25c83c98|fe6b92e5|eb1a4bfa|0b153874|a73ee510|ef9be7c6|1b723d3c|e0d76380|2e072c0d|07d13a8f|943169c2|1203a270|07c540c4|281769c2|    null|    null|73d06dde|ad3062eb|3a171ecb|aee52b6f|    null|    null|\n",
      "|null|   4|  40|   5|  null|null|   0|139|   2|null|   0|null|  30|5a9ed9b0|8084ee93|02cf9876|c18be181|25c83c98|7e0ccccf|af0809a5|64523cfa|7cc72ec2|3b08e48b|9e12e146|8fe001f4|025225f2|b28479f6|16d2748c|36103458|2005abd1|003d4f4f|    null|    null|e587c466|    null|be7c41b4|3b183c5c|    null|    null|\n",
      "|   8|   0|   1|  36|   457|  81|  70| 14| 774|   1|   5|null|  51|05db9164|b7ca2abd|ee96fc95|68ad052c|25c83c98|7e0ccccf|d2d741ca|0b153874|a73ee510|18139a78|ea4adb47|ce875433|05781932|64c94865|5f2d5a3a|5f92b84a|e5ba7672|4771e483|    null|    null|95b757a6|    null|423fab69|41be4766|    null|    null|\n",
      "|null|   4|  13|  20| 17700|null|   0| 20|   1|null|   0|null|  20|68fd1e64|08d6d899|9143c832|f56b7dd5|0942e0a7|7e0ccccf|e88f1cec|0b153874|a73ee510|3b08e48b|8f410860|ae1bb660|b8eec0b1|b28479f6|bffbd637|bad5ee18|776ce399|bbf70d82|    null|    null|0429f84b|    null|be7c41b4|c0d61a5c|    null|    null|\n",
      "|null|  52|   8|  30|  1572|  56|   5| 30| 134|null|   4|null|  30|68fd1e64|09e68b86|aa8c1539|85dd697c|25c83c98|fe6b92e5|c5919aca|0b153874|a73ee510|343ac6ed|8924112e|d8c29807|3cf672d1|8ceecbc8|d2f03b75|c64d548f|e5ba7672|63cdbb21|cf99e5de|5840adea|5f957280|ad3062eb|3a171ecb|1793a828|e8b83407|b7d9c3bc|\n",
      "|null|   1|  24|null|124689|null|null|  3|null|null|null|null|null|87552397|31520db9|d1e7b5d9|5fd7e960|25c83c98|    null|93b19353|0b153874|7cc72ec2|3b08e48b|d2b7c44b|d8bf293a|68637c0d|64c94865|22d19b8c|8d422b7e|e5ba7672|30d1165e|21ddcdc9|5840adea|4a74c2f6|    null|32c7478e|471f55fb|010f6491|2c444dca|\n",
      "|  16|  18|5203|   8|     0|   0|   4| 49|  10|   0|   1|null|   0|05db9164|9f7e1d07|0253bbf5|d6420627|4cf72387|    null|0db090eb|0b153874|a73ee510|3b08e48b|10e6a64f|31adfaee|38b5339a|07d13a8f|3e25e5f5|1621c7f4|e5ba7672|6a58e423|21ddcdc9|5840adea|bcc7a461|    null|32c7478e|3214afd4|ea9a246c|e7ecb821|\n",
      "|null|   2|   4|   4|   508|null|   0| 16|  17|null|   0|null|   4|5a9ed9b0|6e638bbc|74e1a23a|9a6888fb|384874ce|7e0ccccf|a24c8c8e|5b392875|a73ee510|2e8e8e87|41b3f655|fb8fab62|ce5114a2|07d13a8f|d4525f76|c6b1e1b2|1e88c74f|f6a2fc70|21ddcdc9|5840adea|99c09e97|    null|32c7478e|335a6a1e|9b3e8820|3055b376|\n",
      "|null|1503|null|null| 25509|null|null| 10|null|null|null|null|null|68fd1e64|d833535f|ad4b77ff|d16679b9|25c83c98|fbad5c96|038685fb|37e4aa92|a73ee510|3b08e48b|ed04080f|a2f4e8b5|5579ddc3|b28479f6|a733d362|89052618|776ce399|281769c2|    null|    null|d4703ebd|    null|32c7478e|aee52b6f|    null|    null|\n",
      "|   1|  18|   2|   8|     0|   0|   1|  9|   8|   1|   1|null|   0|f473b8dc|d833535f|b00d1501|d16679b9|25c83c98|7e0ccccf|f01779eb|0b153874|a73ee510|a1f4ff73|0f1fa8b8|e0d76380|e4e9ce3a|b28479f6|a733d362|1203a270|3486227d|281769c2|    null|    null|73d06dde|    null|32c7478e|aee52b6f|    null|    null|\n",
      "|null|   3|null|null| 36977| 135|   1|  0|  63|null|   1|   0|null|87552397|9adf4cf9|d0ba1c0b|4c942c6d|25c83c98|fbad5c96|77e91f62|0b153874|a73ee510|ca2f139a|7defe259|1727332f|11fa2c12|ad1cc976|778f5086|2c3ad7de|e5ba7672|76ae8aa6|    null|    null|565ebb25|8ec974f4|c3dc6cef|90b6276f|    null|    null|\n",
      "|  14|  11|  10|   6|     2|   2|  21| 14|  16|   1|   3|null|   2|87552397|38a947a1|e058fc3c|2192038e|25c83c98|7e0ccccf|6fa3c1a7|0b153874|a73ee510|5f50c86b|b8deab54|f7cbe917|efbb2435|b28479f6|79595843|0c6b4ad6|e5ba7672|4427594e|    null|    null|f6e3bd9c|    null|32c7478e|9e07eb4a|    null|    null|\n",
      "|null|   3|  20|  19| 32306|null|   0| 22|  22|null|   0|null|  22|05db9164|fc1fa80d|6ff38c9f|45e7b9c6|4cf72387|7e0ccccf|9f35dfeb|0b153874|a73ee510|f4233f25|723eb72b|902ac8b1|8a6ad3da|b28479f6|4ce39685|ff5a027e|e5ba7672|f68751cd|    null|    null|e27d6c43|c9d4222a|32c7478e|1793a828|    null|    null|\n",
      "+----+----+----+----+------+----+----+---+----+----+----+----+----+--------+--------+--------+--------+--------+--------+--------+--------+--------+--------+--------+--------+--------+--------+--------+--------+--------+--------+--------+--------+--------+--------+--------+--------+--------+--------+\n",
      "only showing top 20 rows\n",
      "\n"
     ]
    }
   ],
   "source": [
    "df_test.show()"
   ]
  },
  {
   "cell_type": "code",
   "execution_count": 12,
   "id": "7dd60d18-e408-423d-a0e6-9bf99edb9237",
   "metadata": {
    "execution": {
     "iopub.execute_input": "2025-01-16T13:25:45.245491Z",
     "iopub.status.busy": "2025-01-16T13:25:45.244809Z",
     "iopub.status.idle": "2025-01-16T13:25:45.655194Z",
     "shell.execute_reply": "2025-01-16T13:25:45.653586Z",
     "shell.execute_reply.started": "2025-01-16T13:25:45.245425Z"
    },
    "tags": []
   },
   "outputs": [],
   "source": [
    "df_train = spark.read.csv(dataset[1], header=False, sep='\\t')"
   ]
  },
  {
   "cell_type": "code",
   "execution_count": 13,
   "id": "5e8aa9af-7b5f-47ff-8fdf-98e26ac87edd",
   "metadata": {
    "execution": {
     "iopub.execute_input": "2025-01-16T13:25:50.272634Z",
     "iopub.status.busy": "2025-01-16T13:25:50.271717Z",
     "iopub.status.idle": "2025-01-16T13:25:51.993317Z",
     "shell.execute_reply": "2025-01-16T13:25:51.991703Z",
     "shell.execute_reply.started": "2025-01-16T13:25:50.272518Z"
    },
    "tags": []
   },
   "outputs": [
    {
     "name": "stderr",
     "output_type": "stream",
     "text": [
      "[Stage 5:>                                                          (0 + 1) / 1]\r"
     ]
    },
    {
     "name": "stdout",
     "output_type": "stream",
     "text": [
      "+----+----+----+----+------+----+----+---+----+----+----+----+----+--------+--------+--------+--------+--------+--------+--------+--------+--------+--------+--------+--------+--------+--------+--------+--------+--------+--------+--------+--------+--------+--------+--------+--------+--------+--------+\n",
      "| _c0| _c1| _c2| _c3|   _c4| _c5| _c6|_c7| _c8| _c9|_c10|_c11|_c12|    _c13|    _c14|    _c15|    _c16|    _c17|    _c18|    _c19|    _c20|    _c21|    _c22|    _c23|    _c24|    _c25|    _c26|    _c27|    _c28|    _c29|    _c30|    _c31|    _c32|    _c33|    _c34|    _c35|    _c36|    _c37|    _c38|\n",
      "+----+----+----+----+------+----+----+---+----+----+----+----+----+--------+--------+--------+--------+--------+--------+--------+--------+--------+--------+--------+--------+--------+--------+--------+--------+--------+--------+--------+--------+--------+--------+--------+--------+--------+--------+\n",
      "|null|  29|  50|   5|  7260| 437|   1|  4|  14|null|   1|   0|   6|5a9ed9b0|a0e12995|a1e14474|08a40877|25c83c98|    null|964d1fdd|5b392875|a73ee510|de89c3d2|59cd5ae7|8d98db20|8b216f7b|1adce6ef|78c64a1d|3ecdadf7|3486227d|1616f155|21ddcdc9|5840adea|2c277e62|    null|423fab69|54c91918|9b3e8820|e75c9ae9|\n",
      "|  27|  17|  45|  28|     2|  28|  27| 29|  28|   1|   1|null|  23|68fd1e64|960c983b|9fbfbfd5|38c11726|25c83c98|7e0ccccf|fe06fd10|062b5529|a73ee510|ca53fc84|67360210|895d8bbb|4f8e2224|f862f261|b4cc2435|4c0041e5|e5ba7672|b4abdd09|21ddcdc9|5840adea|36a7ab86|    null|32c7478e|85e4d73f|010f6491|ee63dd9b|\n",
      "|   1|   1|  19|   7|     1|   3|   1|  7|   7|   1|   1|null|   2|09ca0b81|8947f767|a87e61f7|c4ba2a67|25c83c98|7e0ccccf|ce6020cc|062b5529|a73ee510|b04d3cfe|70dcd184|899eb56b|aca22cf9|b28479f6|a473257f|88f592e4|d4bb7bd8|bd17c3da|1d04f4a4|a458ea53|82bdc0bb|    null|32c7478e|5bdcd9c4|010f6491|cca57dcc|\n",
      "|   4|   1|null|   6|  1051| 134|   4| 35|  72|   1|   1|null|   6|05db9164|532da141|a7ded28e|456b4d8c|25c83c98|fbad5c96|5f29da0e|0b153874|a73ee510|4b344a42|0ad37b4b|8ea37200|f9d99d81|cfef1c29|abd8f51e|9a9902d0|07c540c4|bdc06043|    null|    null|6dfd157c|ad3062eb|423fab69|ef089725|    null|    null|\n",
      "|   7|   1|  25|  10|   139|  74|  48| 13|  44|   1|   8|   2|  12|05db9164|207b2d81|2b280564|ad5ffc6b|25c83c98|7e0ccccf|103c17bc|0b153874|a73ee510|8e54038a|e6e0c2dc|2a064dba|e9332a03|07d13a8f|0c67c4ca|7d9b60c8|27c07bd6|395856b0|21ddcdc9|a458ea53|9c3eb598|ad3062eb|3a171ecb|c0b8dfd6|001f3601|7a2fb9af|\n",
      "|   8|  11|  38|   9|   316|  25|   8| 11|  10|   1|   1|null|   9|05db9164|09e68b86|aa8c1539|85dd697c|25c83c98|7e0ccccf|bc252bd0|5b392875|a73ee510|ef5c0d3c|0bd0c3b3|d8c29807|c0e6befc|8ceecbc8|d2f03b75|c64d548f|e5ba7672|63cdbb21|cf99e5de|5840adea|5f957280|    null|55dd3565|1793a828|e8b83407|b7d9c3bc|\n",
      "|   2|   1|null|   4|     7|   4|   2|  4|   4|   1|   1|null|   4|05db9164|2ae0a573|c5d94b65|5cc8f91d|25c83c98|fe6b92e5|dfc6e241|5b392875|a73ee510|5fe250bc|3547565f|75c79158|12880350|ad1cc976|b046231a|208d4baf|07c540c4|3e340673|    null|    null|6a909d9a|    null|c3dc6cef|1f68c81f|    null|    null|\n",
      "|null|   0|null|null|  8906| 541|   2|  2|  78|null|   1|null|null|05db9164|d833535f|b00d1501|d16679b9|25c83c98|fe6b92e5|eb1a4bfa|0b153874|a73ee510|ef9be7c6|1b723d3c|e0d76380|2e072c0d|07d13a8f|943169c2|1203a270|07c540c4|281769c2|    null|    null|73d06dde|ad3062eb|3a171ecb|aee52b6f|    null|    null|\n",
      "|null|   4|  40|   5|  null|null|   0|139|   2|null|   0|null|  30|5a9ed9b0|8084ee93|02cf9876|c18be181|25c83c98|7e0ccccf|af0809a5|64523cfa|7cc72ec2|3b08e48b|9e12e146|8fe001f4|025225f2|b28479f6|16d2748c|36103458|2005abd1|003d4f4f|    null|    null|e587c466|    null|be7c41b4|3b183c5c|    null|    null|\n",
      "|   8|   0|   1|  36|   457|  81|  70| 14| 774|   1|   5|null|  51|05db9164|b7ca2abd|ee96fc95|68ad052c|25c83c98|7e0ccccf|d2d741ca|0b153874|a73ee510|18139a78|ea4adb47|ce875433|05781932|64c94865|5f2d5a3a|5f92b84a|e5ba7672|4771e483|    null|    null|95b757a6|    null|423fab69|41be4766|    null|    null|\n",
      "|null|   4|  13|  20| 17700|null|   0| 20|   1|null|   0|null|  20|68fd1e64|08d6d899|9143c832|f56b7dd5|0942e0a7|7e0ccccf|e88f1cec|0b153874|a73ee510|3b08e48b|8f410860|ae1bb660|b8eec0b1|b28479f6|bffbd637|bad5ee18|776ce399|bbf70d82|    null|    null|0429f84b|    null|be7c41b4|c0d61a5c|    null|    null|\n",
      "|null|  52|   8|  30|  1572|  56|   5| 30| 134|null|   4|null|  30|68fd1e64|09e68b86|aa8c1539|85dd697c|25c83c98|fe6b92e5|c5919aca|0b153874|a73ee510|343ac6ed|8924112e|d8c29807|3cf672d1|8ceecbc8|d2f03b75|c64d548f|e5ba7672|63cdbb21|cf99e5de|5840adea|5f957280|ad3062eb|3a171ecb|1793a828|e8b83407|b7d9c3bc|\n",
      "|null|   1|  24|null|124689|null|null|  3|null|null|null|null|null|87552397|31520db9|d1e7b5d9|5fd7e960|25c83c98|    null|93b19353|0b153874|7cc72ec2|3b08e48b|d2b7c44b|d8bf293a|68637c0d|64c94865|22d19b8c|8d422b7e|e5ba7672|30d1165e|21ddcdc9|5840adea|4a74c2f6|    null|32c7478e|471f55fb|010f6491|2c444dca|\n",
      "|  16|  18|5203|   8|     0|   0|   4| 49|  10|   0|   1|null|   0|05db9164|9f7e1d07|0253bbf5|d6420627|4cf72387|    null|0db090eb|0b153874|a73ee510|3b08e48b|10e6a64f|31adfaee|38b5339a|07d13a8f|3e25e5f5|1621c7f4|e5ba7672|6a58e423|21ddcdc9|5840adea|bcc7a461|    null|32c7478e|3214afd4|ea9a246c|e7ecb821|\n",
      "|null|   2|   4|   4|   508|null|   0| 16|  17|null|   0|null|   4|5a9ed9b0|6e638bbc|74e1a23a|9a6888fb|384874ce|7e0ccccf|a24c8c8e|5b392875|a73ee510|2e8e8e87|41b3f655|fb8fab62|ce5114a2|07d13a8f|d4525f76|c6b1e1b2|1e88c74f|f6a2fc70|21ddcdc9|5840adea|99c09e97|    null|32c7478e|335a6a1e|9b3e8820|3055b376|\n",
      "|null|1503|null|null| 25509|null|null| 10|null|null|null|null|null|68fd1e64|d833535f|ad4b77ff|d16679b9|25c83c98|fbad5c96|038685fb|37e4aa92|a73ee510|3b08e48b|ed04080f|a2f4e8b5|5579ddc3|b28479f6|a733d362|89052618|776ce399|281769c2|    null|    null|d4703ebd|    null|32c7478e|aee52b6f|    null|    null|\n",
      "|   1|  18|   2|   8|     0|   0|   1|  9|   8|   1|   1|null|   0|f473b8dc|d833535f|b00d1501|d16679b9|25c83c98|7e0ccccf|f01779eb|0b153874|a73ee510|a1f4ff73|0f1fa8b8|e0d76380|e4e9ce3a|b28479f6|a733d362|1203a270|3486227d|281769c2|    null|    null|73d06dde|    null|32c7478e|aee52b6f|    null|    null|\n",
      "|null|   3|null|null| 36977| 135|   1|  0|  63|null|   1|   0|null|87552397|9adf4cf9|d0ba1c0b|4c942c6d|25c83c98|fbad5c96|77e91f62|0b153874|a73ee510|ca2f139a|7defe259|1727332f|11fa2c12|ad1cc976|778f5086|2c3ad7de|e5ba7672|76ae8aa6|    null|    null|565ebb25|8ec974f4|c3dc6cef|90b6276f|    null|    null|\n",
      "|  14|  11|  10|   6|     2|   2|  21| 14|  16|   1|   3|null|   2|87552397|38a947a1|e058fc3c|2192038e|25c83c98|7e0ccccf|6fa3c1a7|0b153874|a73ee510|5f50c86b|b8deab54|f7cbe917|efbb2435|b28479f6|79595843|0c6b4ad6|e5ba7672|4427594e|    null|    null|f6e3bd9c|    null|32c7478e|9e07eb4a|    null|    null|\n",
      "|null|   3|  20|  19| 32306|null|   0| 22|  22|null|   0|null|  22|05db9164|fc1fa80d|6ff38c9f|45e7b9c6|4cf72387|7e0ccccf|9f35dfeb|0b153874|a73ee510|f4233f25|723eb72b|902ac8b1|8a6ad3da|b28479f6|4ce39685|ff5a027e|e5ba7672|f68751cd|    null|    null|e27d6c43|c9d4222a|32c7478e|1793a828|    null|    null|\n",
      "+----+----+----+----+------+----+----+---+----+----+----+----+----+--------+--------+--------+--------+--------+--------+--------+--------+--------+--------+--------+--------+--------+--------+--------+--------+--------+--------+--------+--------+--------+--------+--------+--------+--------+--------+\n",
      "only showing top 20 rows\n",
      "\n"
     ]
    },
    {
     "name": "stderr",
     "output_type": "stream",
     "text": [
      "                                                                                \r"
     ]
    }
   ],
   "source": [
    "df_test.show()"
   ]
  },
  {
   "cell_type": "code",
   "execution_count": null,
   "id": "3770fea5-3773-4400-991f-c307e9ed84ac",
   "metadata": {},
   "outputs": [],
   "source": []
  }
 ],
 "metadata": {
  "kernelspec": {
   "display_name": "Python 3 (ipykernel)",
   "language": "python",
   "name": "python3"
  },
  "language_info": {
   "codemirror_mode": {
    "name": "ipython",
    "version": 3
   },
   "file_extension": ".py",
   "mimetype": "text/x-python",
   "name": "python",
   "nbconvert_exporter": "python",
   "pygments_lexer": "ipython3",
   "version": "3.8.10"
  }
 },
 "nbformat": 4,
 "nbformat_minor": 5
}
