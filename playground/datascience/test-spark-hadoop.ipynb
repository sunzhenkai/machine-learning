{
 "cells": [
  {
   "cell_type": "code",
   "execution_count": 2,
   "id": "a84f1ea9-5d7b-4733-98ac-dce0ed86dba2",
   "metadata": {
    "execution": {
     "iopub.execute_input": "2025-01-16T12:07:21.400005Z",
     "iopub.status.busy": "2025-01-16T12:07:21.399173Z",
     "iopub.status.idle": "2025-01-16T12:07:22.096107Z",
     "shell.execute_reply": "2025-01-16T12:07:22.094218Z",
     "shell.execute_reply.started": "2025-01-16T12:07:21.399924Z"
    },
    "tags": []
   },
   "outputs": [],
   "source": [
    "!export PATH=$PATH:/opt/hadoop/bin"
   ]
  },
  {
   "cell_type": "code",
   "execution_count": 1,
   "id": "eccb946d-2b3a-4890-a19b-5b5809cca7e6",
   "metadata": {
    "execution": {
     "iopub.execute_input": "2025-01-16T11:33:17.963993Z",
     "iopub.status.busy": "2025-01-16T11:33:17.963326Z",
     "iopub.status.idle": "2025-01-16T11:33:17.982155Z",
     "shell.execute_reply": "2025-01-16T11:33:17.980288Z",
     "shell.execute_reply.started": "2025-01-16T11:33:17.963924Z"
    },
    "tags": []
   },
   "outputs": [],
   "source": [
    "import pyspark"
   ]
  },
  {
   "cell_type": "code",
   "execution_count": 2,
   "id": "de9fab34-f934-46cd-8290-d7cb5074a5d0",
   "metadata": {
    "execution": {
     "iopub.execute_input": "2025-01-16T11:33:42.664532Z",
     "iopub.status.busy": "2025-01-16T11:33:42.663860Z",
     "iopub.status.idle": "2025-01-16T11:33:47.328163Z",
     "shell.execute_reply": "2025-01-16T11:33:47.325921Z",
     "shell.execute_reply.started": "2025-01-16T11:33:42.664466Z"
    },
    "tags": []
   },
   "outputs": [
    {
     "name": "stderr",
     "output_type": "stream",
     "text": [
      "Setting default log level to \"WARN\".\n",
      "To adjust logging level use sc.setLogLevel(newLevel). For SparkR, use setLogLevel(newLevel).\n"
     ]
    },
    {
     "name": "stdout",
     "output_type": "stream",
     "text": [
      "25/01/16 19:33:45 WARN NativeCodeLoader: Unable to load native-hadoop library for your platform... using builtin-java classes where applicable\n"
     ]
    }
   ],
   "source": [
    "spark = pyspark.sql.SparkSession.builder.master(\"spark://datascience-spark:7077\").getOrCreate()"
   ]
  },
  {
   "cell_type": "code",
   "execution_count": 3,
   "id": "f9d57037-40f1-4278-a41d-1edc584fc36d",
   "metadata": {
    "execution": {
     "iopub.execute_input": "2025-01-16T11:33:48.847938Z",
     "iopub.status.busy": "2025-01-16T11:33:48.847226Z",
     "iopub.status.idle": "2025-01-16T11:33:48.856244Z",
     "shell.execute_reply": "2025-01-16T11:33:48.854864Z",
     "shell.execute_reply.started": "2025-01-16T11:33:48.847861Z"
    },
    "tags": []
   },
   "outputs": [
    {
     "name": "stdout",
     "output_type": "stream",
     "text": [
      "<pyspark.sql.session.SparkSession object at 0x7f0670554d30>\n"
     ]
    }
   ],
   "source": [
    "print(spark)"
   ]
  },
  {
   "cell_type": "code",
   "execution_count": 5,
   "id": "bdc9d347-9ebf-441c-977e-3f5b5f1ec631",
   "metadata": {
    "execution": {
     "iopub.execute_input": "2025-01-16T11:34:21.980890Z",
     "iopub.status.busy": "2025-01-16T11:34:21.980263Z",
     "iopub.status.idle": "2025-01-16T11:34:27.147226Z",
     "shell.execute_reply": "2025-01-16T11:34:27.145727Z",
     "shell.execute_reply.started": "2025-01-16T11:34:21.980839Z"
    },
    "tags": []
   },
   "outputs": [
    {
     "name": "stderr",
     "output_type": "stream",
     "text": [
      "                                                                                \r"
     ]
    }
   ],
   "source": [
    "df = spark.read.json(\"hdfs://namenode/sample.json\")"
   ]
  },
  {
   "cell_type": "code",
   "execution_count": 6,
   "id": "3da6f732-c4fc-42cf-bad0-43377bbcd7c9",
   "metadata": {
    "execution": {
     "iopub.execute_input": "2025-01-16T11:34:27.150287Z",
     "iopub.status.busy": "2025-01-16T11:34:27.149768Z",
     "iopub.status.idle": "2025-01-16T11:34:27.747225Z",
     "shell.execute_reply": "2025-01-16T11:34:27.745710Z",
     "shell.execute_reply.started": "2025-01-16T11:34:27.150228Z"
    },
    "tags": []
   },
   "outputs": [
    {
     "name": "stdout",
     "output_type": "stream",
     "text": [
      "+---+\n",
      "|foo|\n",
      "+---+\n",
      "|bar|\n",
      "+---+\n",
      "\n"
     ]
    }
   ],
   "source": [
    "df.show()"
   ]
  },
  {
   "cell_type": "markdown",
   "id": "9754f069-18c5-44ce-8c95-1c76a973fd71",
   "metadata": {},
   "source": [
    "MetaSpore Demo Dataset\n",
    "https://www.kaggle.com/c/criteo-display-ad-challenge/data"
   ]
  },
  {
   "cell_type": "code",
   "execution_count": 3,
   "id": "1d153866-73fb-4298-8307-7073b9aec017",
   "metadata": {
    "execution": {
     "iopub.execute_input": "2025-01-16T12:07:23.665360Z",
     "iopub.status.busy": "2025-01-16T12:07:23.664371Z",
     "iopub.status.idle": "2025-01-16T12:07:25.702380Z",
     "shell.execute_reply": "2025-01-16T12:07:25.700520Z",
     "shell.execute_reply.started": "2025-01-16T12:07:23.665281Z"
    },
    "tags": []
   },
   "outputs": [
    {
     "name": "stdout",
     "output_type": "stream",
     "text": [
      "/bin/zsh\n",
      "/home/dev/.local/bin:/opt/spark/bin:/usr/local/sbin:/usr/local/bin:/usr/sbin:/usr/bin:/sbin:/bin\n",
      "zsh:1: command not found: hdfs\n"
     ]
    }
   ],
   "source": [
    "!echo $SHELL\n",
    "!echo $PATH\n",
    "!hdfs ls /"
   ]
  },
  {
   "cell_type": "code",
   "execution_count": null,
   "id": "c9d44049-2f68-4ad4-b09e-f604bb59d62a",
   "metadata": {},
   "outputs": [],
   "source": []
  }
 ],
 "metadata": {
  "kernelspec": {
   "display_name": "Python 3 (ipykernel)",
   "language": "python",
   "name": "python3"
  },
  "language_info": {
   "codemirror_mode": {
    "name": "ipython",
    "version": 3
   },
   "file_extension": ".py",
   "mimetype": "text/x-python",
   "name": "python",
   "nbconvert_exporter": "python",
   "pygments_lexer": "ipython3",
   "version": "3.8.10"
  }
 },
 "nbformat": 4,
 "nbformat_minor": 5
}
